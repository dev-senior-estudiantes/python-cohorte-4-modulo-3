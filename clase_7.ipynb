{
 "cells": [
  {
   "metadata": {},
   "cell_type": "markdown",
   "source": [
    "# **Objetivos de la clase:**\n",
    "1. Aplicar listas, tuplas, diccionarios y sets en un mini sistema real.\n",
    "2. Entender programación funcional en Python (funciones puras, inmutabilidad razonable, composición).\n",
    "3. Dominar lambda junto a map, filter y reduce (y cuándo preferir comprensiones).\n",
    "4. Diseñar pipelines de limpieza y validación de datos.\n",
    "Separar lógica de negocio de presentación/IO.\n",
    "5. Prepararse para trabajar con JSON y estructuras anidadas."
   ],
   "id": "4c62ee4e4d2fc985"
  },
  {
   "metadata": {},
   "cell_type": "markdown",
   "source": [
    "## **Programación Funcional**\n",
    "1. La programación funcional es un paradigma de programación que trata de la computación como la evaluación de funciones matematicas y evita el cambio de estado y los datos mutables.\n",
    "2. La programación funcional se enfoca en qué se debe hacer, utilizando expresiones en lugar de declaraciones"
   ],
   "id": "1479dc359ebdb9c9"
  },
  {
   "metadata": {
    "ExecuteTime": {
     "end_time": "2025-08-28T23:24:36.003437Z",
     "start_time": "2025-08-28T23:24:35.997938Z"
    }
   },
   "cell_type": "code",
   "source": [
    "# Lista de numeros inicial\n",
    "numbers = [1, 2, 3, 4, 5, 6, 7, 8, 9, 10]\n",
    "\n",
    "# Usando una compresion de lista (list comprehension)\n",
    "# Combina filtrado y mapeo en una sola expresion declarativa.\n",
    "numeros_pares_cuadrados = [\n",
    "   num ** 2 for num in numbers if num % 2 == 0\n",
    "]\n",
    "\n",
    " # ejemplo de como hace el proceso con ciclos\n",
    "for num in numbers:\n",
    "    print(f\"imprimiendo el iterable de la lista: {num}\")\n",
    "\n",
    "for num in numbers:\n",
    "    if num % 2 == 0:\n",
    "        print(f\"imprimiendo los numeros pares: {num}\")\n",
    "        print(f\"imprimiendo el cuadrado de los numeros pares: {num ** 2}\")\n",
    "\n",
    "# Imprime los numeros pares cuadrados\n",
    "print(numeros_pares_cuadrados)"
   ],
   "id": "367276a291633274",
   "outputs": [
    {
     "name": "stdout",
     "output_type": "stream",
     "text": [
      "imprimiendo el iterable de la lista: 1\n",
      "imprimiendo el iterable de la lista: 2\n",
      "imprimiendo el iterable de la lista: 3\n",
      "imprimiendo el iterable de la lista: 4\n",
      "imprimiendo el iterable de la lista: 5\n",
      "imprimiendo el iterable de la lista: 6\n",
      "imprimiendo el iterable de la lista: 7\n",
      "imprimiendo el iterable de la lista: 8\n",
      "imprimiendo el iterable de la lista: 9\n",
      "imprimiendo el iterable de la lista: 10\n",
      "imprimiendo los numeros pares: 2\n",
      "imprimiendo el cuadrado de los numeros pares: 4\n",
      "imprimiendo los numeros pares: 4\n",
      "imprimiendo el cuadrado de los numeros pares: 16\n",
      "imprimiendo los numeros pares: 6\n",
      "imprimiendo el cuadrado de los numeros pares: 36\n",
      "imprimiendo los numeros pares: 8\n",
      "imprimiendo el cuadrado de los numeros pares: 64\n",
      "imprimiendo los numeros pares: 10\n",
      "imprimiendo el cuadrado de los numeros pares: 100\n",
      "[4, 16, 36, 64, 100]\n"
     ]
    }
   ],
   "execution_count": 2
  },
  {
   "metadata": {},
   "cell_type": "markdown",
   "source": [
    "**Explicacion del ejemplo:**\n",
    "\n",
    "* Paso 1: Lista de numeros del  1 al 10.\n",
    "* paso 1.1: EL ciclo for itera sobre cada elemento de la lista, donde numbers es la lista original y num es el elemento actual.\n",
    "* paso 1.2: El ciclo if filtra los numeros pares. Con la formula para numeros pares es:\n",
    "`num % 2 == 0, donde 1 % 2 == 1`\n",
    "* paso 2: `El ciclo **num ** 2 `mapea cada numero a su cuadrado.\n",
    "* Paso 3: Combinar los resultados en una sola lista."
   ],
   "id": "a47068f93c7ae2c9"
  },
  {
   "metadata": {},
   "cell_type": "markdown",
   "source": [
    "**Explicación paso a paso:**\n",
    "\n",
    "1. Se define una única expresión `([... for ... if ...])` que describe el resultado deseado.\n",
    "2. `if num % 2 == 0 e`s la parte que filtra los números pares.\n",
    "3. `num ** 2 `es la parte que transforma (mapea) cada número par en su cuadrado.\n",
    "4. La comprensión de lista crea una nueva lista directamente a partir de la original, sin necesidad de un bucle explícito o de modificar un estado intermedio.\n",
    "5. El código se lee como una declaración de lo que es el resultado, sin detallar el \"cómo\" se construye.\n",
    "\n",
    "**Comparación y Ventajas:**\n",
    "\n",
    "7. **Legibilidad y Concisión:** El enfoque funcional es mucho más corto y, para muchos, más fácil de leer, ya que la intención del código es evidente de inmediato.\n",
    "\n",
    "8. **Inmutabilidad:** La versión funcional no modifica la lista original ni utiliza una lista mutable intermedia, lo que reduce los efectos secundarios y hace que el código sea más seguro y predecible.\n",
    "\n",
    "9. **Abstracción:** El código funcional eleva el nivel de abstracción, permitiéndote pensar en operaciones sobre colecciones `(filtrar, mapear)` en lugar de en bucles y mutaciones."
   ],
   "id": "d888a56d7eba1ffc"
  },
  {
   "metadata": {},
   "cell_type": "markdown",
   "source": [
    "# **Como Se aplica en Python**\n",
    "\n",
    "1. Funciones de primera clase y orden superior\n",
    "2. Funciones puras\n",
    "3. Inmutabilidad\n",
    "4. Inmutabilidad razonable\n",
    "4. Funciones lambda\n",
    "5. Composición\n",
    "6. Pipelines\n",
    "* Legibilidad y Concisión\n",
    "* Abstracción\n",
    "\n",
    "* Colecciones + funciones de orden superior\n",
    "* Evaluación perezosa"
   ],
   "id": "b1007f8ebb140c17"
  },
  {
   "metadata": {},
   "cell_type": "markdown",
   "source": [
    "# **Funciones de primera clase y orden superior**\n",
    "\n",
    "* Las funciones de primera clase se pueden pasar como argumentos a otras funciones.\n",
    "* Las funciones de orden superior son las que aceptan otras funciones como argumentos o las devuelven."
   ],
   "id": "19d8cd953db3d872"
  },
  {
   "cell_type": "code",
   "id": "initial_id",
   "metadata": {
    "collapsed": true,
    "ExecuteTime": {
     "end_time": "2025-08-28T23:24:39.860368Z",
     "start_time": "2025-08-28T23:24:39.855522Z"
    }
   },
   "source": [
    "# 1 Funciones de primera clase: Es solo una función regular.\n",
    "def aplicar_opreacion(op,a, b):\n",
    "    # 2 Función  de orden superior: toma una función -op- como argumento.\n",
    "    return op(a, b)\n",
    "\n",
    "# Una función simple que suma dos números.}\n",
    "def suma(x, y):\n",
    "    return x + y\n",
    "\n",
    "# 3 La función -suma- se pasa como argumento a -aplicar_opreacion-\n",
    "resultado = aplicar_opreacion(suma, 5, 3)\n",
    "\n",
    "print(f\"El resultado de la suma es: {resultado}\")\n",
    "# La salida es: El resultado de la suma es: 8"
   ],
   "outputs": [
    {
     "name": "stdout",
     "output_type": "stream",
     "text": [
      "El resultado de la suma es: 8\n"
     ]
    }
   ],
   "execution_count": 3
  },
  {
   "metadata": {},
   "cell_type": "markdown",
   "source": "En este ejemplo -suma- es una función de primera clase que se pasa a aplicar_operación, una función de orden superior.\n",
   "id": "ac6fa6463214c04c"
  },
  {
   "metadata": {},
   "cell_type": "markdown",
   "source": [
    "# **Funciones puras**\n",
    "\n",
    "Mismo input → mismo output, sin efectos colaterales."
   ],
   "id": "9d8b5f5eaa224e6a"
  },
  {
   "metadata": {
    "ExecuteTime": {
     "end_time": "2025-08-28T23:24:42.422496Z",
     "start_time": "2025-08-28T23:24:42.418594Z"
    }
   },
   "cell_type": "code",
   "source": [
    "def cuadrado(x: int) -> int:\n",
    "    return x * x\n",
    "\n",
    "print(cuadrado(4))  # 16\n",
    "print(cuadrado(4))  # siempre 16"
   ],
   "id": "57cd6a92bc59ea69",
   "outputs": [
    {
     "name": "stdout",
     "output_type": "stream",
     "text": [
      "16\n",
      "16\n"
     ]
    }
   ],
   "execution_count": 4
  },
  {
   "metadata": {},
   "cell_type": "markdown",
   "source": [
    "1. No depende de variables externas.\n",
    "2. No modifica nada.\n",
    "3. Siempre devuelve el mismo resultado.\n",
    "4. No tiene efectos secundarios."
   ],
   "id": "d5b36f7a43a37d3b"
  },
  {
   "metadata": {},
   "cell_type": "markdown",
   "source": [
    "**Funciones puras**\n",
    "\n",
    "* Una función pura siempre devuelve el mismo resultado para las mismas entradas y no tiene efectos secundarios.\n",
    "* Esto significa que no modifica variables externas al ámbito de la función."
   ],
   "id": "7d4fc77787acd03c"
  },
  {
   "metadata": {
    "ExecuteTime": {
     "end_time": "2025-08-28T23:24:45.166980Z",
     "start_time": "2025-08-28T23:24:45.159401Z"
    }
   },
   "cell_type": "code",
   "source": [
    "# Variable global que no debe ser modificada:\n",
    "IVA_GLOBAL = 0.16\n",
    "\n",
    "# Función pura: solo depende de sus argumentos.\n",
    "def calcular_precio_final(precio_base):\n",
    "    return precio_base * (1 + 0.16)\n",
    "\n",
    "# Función impura: modifica una variable global (efecto secundario).\n",
    "def agregar_iva_impura(precio_base):\n",
    "    # Esto es una mala práctica en programación funcional\n",
    "    global IVA_GLOBAL\n",
    "    IVA_GLOBAL += 0.16\n",
    "    return precio_base * (1 + IVA_GLOBAL)\n",
    "\n",
    "precio = 100\n",
    "precio_final = calcular_precio_final(precio)\n",
    "\n",
    "print(f\"El precio final es: {precio_final}\")\n",
    "# Salida: El precio final es:"
   ],
   "id": "dea9d026cb657686",
   "outputs": [
    {
     "name": "stdout",
     "output_type": "stream",
     "text": [
      "El precio final es: 115.99999999999999\n"
     ]
    }
   ],
   "execution_count": 5
  },
  {
   "metadata": {},
   "cell_type": "markdown",
   "source": "`calcular_precio_final` es pura porque no modifica uanda fuera de su ambito, a diferencia de `agregar_iva_impura` que si lo hace.",
   "id": "b63128e5b57c14a4"
  },
  {
   "metadata": {},
   "cell_type": "markdown",
   "source": [
    "# **Inmutabilidad**\n",
    "\n",
    "* La **inmutabilidad** se refiere a no modificar objetos después de su creación.\n",
    "* En Python, _las tuplas_ y _las cadenas_ de texto son inmutables, mientras que las listas son mutables."
   ],
   "id": "a96a5786ffc4333e"
  },
  {
   "metadata": {
    "ExecuteTime": {
     "end_time": "2025-08-28T23:24:48.009866Z",
     "start_time": "2025-08-28T23:24:47.976803Z"
    }
   },
   "cell_type": "code",
   "source": [
    "# Uso de tuplas (inmutables)\n",
    "datos_inmutables = (1, 2, 3)\n",
    "\n",
    "# Esto daria un Error (TypeError) porque las tuplas no se pueden modificar\n",
    "datos_inmutables.append(4)  # Error"
   ],
   "id": "2464859e11288fad",
   "outputs": [
    {
     "ename": "AttributeError",
     "evalue": "'tuple' object has no attribute 'append'",
     "output_type": "error",
     "traceback": [
      "\u001B[31m---------------------------------------------------------------------------\u001B[39m",
      "\u001B[31mAttributeError\u001B[39m                            Traceback (most recent call last)",
      "\u001B[36mCell\u001B[39m\u001B[36m \u001B[39m\u001B[32mIn[6]\u001B[39m\u001B[32m, line 5\u001B[39m\n\u001B[32m      2\u001B[39m datos_inmutables = (\u001B[32m1\u001B[39m, \u001B[32m2\u001B[39m, \u001B[32m3\u001B[39m)\n\u001B[32m      4\u001B[39m \u001B[38;5;66;03m# Esto daria un Error (TypeError) porque las tuplas no se pueden modificar\u001B[39;00m\n\u001B[32m----> \u001B[39m\u001B[32m5\u001B[39m \u001B[43mdatos_inmutables\u001B[49m\u001B[43m.\u001B[49m\u001B[43mappend\u001B[49m(\u001B[32m4\u001B[39m)  \u001B[38;5;66;03m# Error\u001B[39;00m\n",
      "\u001B[31mAttributeError\u001B[39m: 'tuple' object has no attribute 'append'"
     ]
    }
   ],
   "execution_count": 6
  },
  {
   "metadata": {
    "ExecuteTime": {
     "end_time": "2025-08-28T23:24:52.084605Z",
     "start_time": "2025-08-28T23:24:52.078316Z"
    }
   },
   "cell_type": "code",
   "source": [
    "# Para modificarlas se debe crear una nueva tupla a partir de la original.\n",
    "nuevos_datos = datos_inmutables + (4,)\n",
    "\n",
    "print(f\"Tupla original: {datos_inmutables}\")\n",
    "print(f\"Tupla modificada: {nuevos_datos}\")"
   ],
   "id": "b4d47f4624bb1b29",
   "outputs": [
    {
     "name": "stdout",
     "output_type": "stream",
     "text": [
      "Tupla original: (1, 2, 3)\n",
      "Tupla modificada: (1, 2, 3, 4)\n"
     ]
    }
   ],
   "execution_count": 7
  },
  {
   "metadata": {
    "ExecuteTime": {
     "end_time": "2025-08-28T23:25:10.263759Z",
     "start_time": "2025-08-28T23:25:10.259904Z"
    }
   },
   "cell_type": "code",
   "source": [
    "# Uso de una lista (mutable)\n",
    "datos_mutables  = [1, 2, 3]\n",
    "datos_mutables.append(4) # Esto funciona bien\n",
    "print(f\"Lista mutada: {datos_mutables}\")"
   ],
   "id": "ed2275fe3bb2ef15",
   "outputs": [
    {
     "name": "stdout",
     "output_type": "stream",
     "text": [
      "Lista mutada: [1, 2, 3, 4]\n"
     ]
    }
   ],
   "execution_count": 9
  },
  {
   "metadata": {},
   "cell_type": "markdown",
   "source": [
    "Al trabajar con estructuras inmutabkes, se evita el cambio de estado, lo que facilita el seguimiento de datos y reduce errores.\n",
    "\n",
    "# **Inmutabilidad razonable:**\n",
    "\n",
    "Evitar mutaciones innecesarias, crear nuevas estructuras cuando sea necesario.\n"
   ],
   "id": "7320ee7496c5c259"
  },
  {
   "metadata": {
    "ExecuteTime": {
     "end_time": "2025-08-28T23:25:12.294116Z",
     "start_time": "2025-08-28T23:25:12.288775Z"
    }
   },
   "cell_type": "code",
   "source": [
    "# lista original\n",
    "lista_numeros = [1, 2, 3, 4, 5]\n",
    "\n",
    "# En vez de mutar la lista, devolvemos una nueva lista con transformaciones\n",
    "def duplicar_lista(nums):\n",
    "    return [n * 2 for n in nums]\n",
    "\n",
    "nueva_lista_mutable = duplicar_lista(lista_numeros)\n",
    "\n",
    "print(\"Original: \", lista_numeros)\n",
    "print(\"Nueva: \", nueva_lista_mutable)"
   ],
   "id": "82c7d66faf26d5b1",
   "outputs": [
    {
     "name": "stdout",
     "output_type": "stream",
     "text": [
      "Original:  [1, 2, 3, 4, 5]\n",
      "Nueva:  [2, 4, 6, 8, 10]\n"
     ]
    }
   ],
   "execution_count": 10
  },
  {
   "metadata": {},
   "cell_type": "markdown",
   "source": "La lista origina se conserva.",
   "id": "1dfedc96034a7204"
  },
  {
   "metadata": {},
   "cell_type": "markdown",
   "source": [
    "# **Funciones Lambda**\n",
    "\n",
    "* Una **función lambda** es una función anónima pequeña que se define en una sola línea.\n",
    "* Son muy útiles para operaciones simples que se usan solo una vez, a menudo como argumentos para funciones de orden superior.\n",
    "* `Anónima` significa que no requiere un nombre (aunque se puede asignar a una variable).\n",
    "* Se usa cuando necesitas una función rápida y simple.\n",
    "* Sintaxis: `lambda argumentos: expresión`\n",
    "* Se diferencia de `def` porque:\n",
    "* `lambda` **solo puede contener una expresión**, no bloques de código, no `return`, no `for` etc.\n",
    "* Se evalúa en el momento y devuelve automáticamente el resultado."
   ],
   "id": "8bff07d94bf2cb32"
  },
  {
   "metadata": {
    "ExecuteTime": {
     "end_time": "2025-08-28T23:25:14.861322Z",
     "start_time": "2025-08-28T23:25:14.857032Z"
    }
   },
   "cell_type": "code",
   "source": [
    "# Función normal\n",
    "def suma(a, b):\n",
    "    return a + b\n",
    "\n",
    "# Función lambda equivalente\n",
    "suma_lambda = lambda a,b: a +b\n",
    "\n",
    "print(suma(3, 5))\n",
    "print(suma_lambda(3, 5))"
   ],
   "id": "461e56c56569abb3",
   "outputs": [
    {
     "name": "stdout",
     "output_type": "stream",
     "text": [
      "8\n",
      "8\n"
     ]
    }
   ],
   "execution_count": 11
  },
  {
   "metadata": {},
   "cell_type": "markdown",
   "source": "Observa que la `lambda` no necesita `return`, siempre devuelve el valor de la expresión.",
   "id": "2c5f84061fd55304"
  },
  {
   "metadata": {},
   "cell_type": "markdown",
   "source": [
    "**Uso práctico de lambda**\n",
    "\n",
    "Se usan sobre todo cuando necesitas pasar funciones como argumentos a otras funciones:\n",
    "* map\n",
    "* filter\n",
    "* sorted"
   ],
   "id": "3ba616b64706b2b7"
  },
  {
   "metadata": {},
   "cell_type": "markdown",
   "source": "**En `map` (transformación de listas)**",
   "id": "4384f24f01ce3c4f"
  },
  {
   "metadata": {
    "ExecuteTime": {
     "end_time": "2025-08-28T23:25:39.879342Z",
     "start_time": "2025-08-28T23:25:39.873824Z"
    }
   },
   "cell_type": "code",
   "source": [
    "datos = [\"1\", \" 2 \", \"003\"]\n",
    "\n",
    "# convertir strings a enteros quitando espacios.\n",
    "datos_limpios = list(map(lambda s: int(s.strip()), datos))\n",
    "print(datos_limpios)"
   ],
   "id": "1770c3d1eae213",
   "outputs": [
    {
     "name": "stdout",
     "output_type": "stream",
     "text": [
      "[1, 2, 3]\n"
     ]
    }
   ],
   "execution_count": 12
  },
  {
   "metadata": {},
   "cell_type": "markdown",
   "source": "**En `filter` (filtrado)**",
   "id": "a37f7af34c34c7d8"
  },
  {
   "metadata": {
    "ExecuteTime": {
     "end_time": "2025-08-28T23:25:41.045064Z",
     "start_time": "2025-08-28T23:25:41.040444Z"
    }
   },
   "cell_type": "code",
   "source": [
    "# Números pares\n",
    "pares = list(filter(lambda n: n % 2 == 0, range(10)))\n",
    "print(pares)"
   ],
   "id": "4f9b9d8a850f9b94",
   "outputs": [
    {
     "name": "stdout",
     "output_type": "stream",
     "text": [
      "[0, 2, 4, 6, 8]\n"
     ]
    }
   ],
   "execution_count": 13
  },
  {
   "metadata": {},
   "cell_type": "markdown",
   "source": "**En `sorted `(ordenar con clave personalizada)**",
   "id": "51bfea210ed7b459"
  },
  {
   "metadata": {
    "ExecuteTime": {
     "end_time": "2025-08-28T23:25:42.349094Z",
     "start_time": "2025-08-28T23:25:42.342382Z"
    }
   },
   "cell_type": "code",
   "source": [
    "names = [\"Ana\", \"carlos\", \"beatriz\"]\n",
    "\n",
    "ordenados = sorted(names, key=lambda s: s.lower())\n",
    "\n",
    "print(ordenados)"
   ],
   "id": "549cbe87ac5897ec",
   "outputs": [
    {
     "name": "stdout",
     "output_type": "stream",
     "text": [
      "['Ana', 'beatriz', 'carlos']\n"
     ]
    }
   ],
   "execution_count": 14
  },
  {
   "metadata": {},
   "cell_type": "markdown",
   "source": "**En `reduce` (acumulación)**",
   "id": "626bb90c218336f8"
  },
  {
   "metadata": {
    "ExecuteTime": {
     "end_time": "2025-08-28T23:25:44.159285Z",
     "start_time": "2025-08-28T23:25:44.154101Z"
    }
   },
   "cell_type": "code",
   "source": [
    "from functools import reduce\n",
    "\n",
    "suma = reduce(lambda acc, n: acc + n, [1, 2, 3,], 0)\n",
    "print(suma)"
   ],
   "id": "6bf48ca181c1a6c",
   "outputs": [
    {
     "name": "stdout",
     "output_type": "stream",
     "text": [
      "6\n"
     ]
    }
   ],
   "execution_count": 15
  },
  {
   "metadata": {
    "ExecuteTime": {
     "end_time": "2025-08-28T23:25:44.971485Z",
     "start_time": "2025-08-28T23:25:44.965837Z"
    }
   },
   "cell_type": "code",
   "source": [
    "precios = [10, 20, 35, 50]\n",
    "\n",
    "# Usamos map() con una función lambda para duplicar precio.\n",
    "precio_duplicados = list(map(lambda price: price * 2, precios))\n",
    "\n",
    "print(f\"Precio duplicados: {precio_duplicados}\")\n",
    "# Salida: precios duplicados: [20, 40, 70, 100]"
   ],
   "id": "4fb006393699c038",
   "outputs": [
    {
     "name": "stdout",
     "output_type": "stream",
     "text": [
      "Precio duplicados: [20, 40, 70, 100]\n"
     ]
    }
   ],
   "execution_count": 16
  },
  {
   "metadata": {},
   "cell_type": "markdown",
   "source": "Usando filter() con una función lambda para filtrar precios mayores a 30.",
   "id": "b2bd77c1d9f31105"
  },
  {
   "metadata": {
    "ExecuteTime": {
     "end_time": "2025-08-28T23:25:46.799106Z",
     "start_time": "2025-08-28T23:25:46.794701Z"
    }
   },
   "cell_type": "code",
   "source": [
    "precios_altos = list(filter(lambda price: price >30, precios))\n",
    "\n",
    "print(f\"Precios mayores a 30: {precios_altos}\")"
   ],
   "id": "20457013140cdb04",
   "outputs": [
    {
     "name": "stdout",
     "output_type": "stream",
     "text": [
      "Precios mayores a 30: [35, 50]\n"
     ]
    }
   ],
   "execution_count": 17
  },
  {
   "metadata": {},
   "cell_type": "markdown",
   "source": "En estos ejemplos, la funcion lambda: `lambda price: price * 2` - Se usa para definir una transformación sin necesidad de crear una función `def` por separado.\n",
   "id": "ddbf701c61044803"
  },
  {
   "metadata": {},
   "cell_type": "markdown",
   "source": "# Comparación con funciones normales",
   "id": "c31ccb34cc85330a"
  },
  {
   "metadata": {
    "ExecuteTime": {
     "end_time": "2025-08-28T23:25:49.535292Z",
     "start_time": "2025-08-28T23:25:49.529239Z"
    }
   },
   "cell_type": "code",
   "source": [
    "def cuadrado(x):\n",
    "    return x * x\n",
    "\n",
    "# Usando equivalente lambda\n",
    "cuadrado_lambda = lambda x: x * x\n",
    "\n",
    "print(cuadrado(5))"
   ],
   "id": "8c9edef9a28ebea7",
   "outputs": [
    {
     "name": "stdout",
     "output_type": "stream",
     "text": [
      "25\n"
     ]
    }
   ],
   "execution_count": 18
  },
  {
   "metadata": {},
   "cell_type": "markdown",
   "source": [
    "Pero:\n",
    "* Si la lógica crece (más de 1 línea, condiciones complejas), conviene usar def.\n",
    "\n",
    "# Ventajas y desventajas\n",
    "\n",
    "**Ventajas**:\n",
    "\n",
    "1. Sintaxis corta, ideal para callbacks.\n",
    "2.\n",
    "2. Buena combinación con map, filter, reduce, sorted.\n",
    "\n",
    "**Desventajas:**\n",
    "\n",
    "1. Menos legible si la expresión es larga.\n",
    "\n",
    "2. No puedes escribir varias instrucciones.\n",
    "3.\n",
    "3. No permite docstrings → menos descriptivas que def."
   ],
   "id": "b159415159e6a16b"
  },
  {
   "metadata": {},
   "cell_type": "markdown",
   "source": [
    "# Alternativas más \"pitónicas\"\n",
    "\n",
    "En Python, muchas veces es más legible usar `comprensiones` en lugar de `map/filter` con` lambda`:"
   ],
   "id": "700e63e8ffcee230"
  },
  {
   "metadata": {
    "ExecuteTime": {
     "end_time": "2025-08-28T23:25:52.822355Z",
     "start_time": "2025-08-28T23:25:52.815909Z"
    }
   },
   "cell_type": "code",
   "source": [
    "# Con map + lambda\n",
    "lista_num = [\"1\", \" 2 \", \"003\"]\n",
    "num_limpios = list(map(lambda s: int(s.strip()), lista_num))\n",
    "\n",
    "# Usando Compresión\n",
    "num_limpios = [int(s.strip()) for s in lista_num]\n",
    "print(num_limpios)"
   ],
   "id": "40108ecb9652c5c6",
   "outputs": [
    {
     "name": "stdout",
     "output_type": "stream",
     "text": [
      "[1, 2, 3]\n"
     ]
    }
   ],
   "execution_count": 19
  },
  {
   "metadata": {},
   "cell_type": "markdown",
   "source": [
    "# Casos de uso más comunes en nivel senior\n",
    "\n",
    "Ordenar objetos complejos:\n"
   ],
   "id": "90530d5e9d0e082f"
  },
  {
   "metadata": {
    "ExecuteTime": {
     "end_time": "2025-08-28T23:25:54.652228Z",
     "start_time": "2025-08-28T23:25:54.646513Z"
    }
   },
   "cell_type": "code",
   "source": [
    "persons = [\n",
    "    {\n",
    "    \"nombre\": \"Ana\",\n",
    "    \"edad\": 30,\n",
    "},\n",
    "    {\n",
    "    \"nombre\": \"Carlos\",\n",
    "    \"edad\": 25,\n",
    "}\n",
    "]\n",
    "\n",
    "ordenadas = sorted(persons, key=lambda p: p[\"edad\"])\n",
    "\n",
    "print(ordenadas)"
   ],
   "id": "3dc3e6a87f4a46c5",
   "outputs": [
    {
     "name": "stdout",
     "output_type": "stream",
     "text": [
      "[{'nombre': 'Carlos', 'edad': 25}, {'nombre': 'Ana', 'edad': 30}]\n"
     ]
    }
   ],
   "execution_count": 20
  },
  {
   "metadata": {},
   "cell_type": "markdown",
   "source": "# Funciones inline en GUI/eventos:",
   "id": "9781ec2620e0ba8"
  },
  {
   "metadata": {
    "ExecuteTime": {
     "end_time": "2025-08-28T23:26:05.045308Z",
     "start_time": "2025-08-28T23:25:56.600224Z"
    }
   },
   "cell_type": "code",
   "source": [
    "# tkinter es una libreria para interfaces graficas\n",
    "import tkinter as tk\n",
    "\n",
    "ventana = tk.Tk()\n",
    "boton = tk.Button(ventana, text=\"Saludar\", command=lambda: print(\"Hola mundo\"))\n",
    "\n",
    "boton.pack()\n",
    "ventana.mainloop()"
   ],
   "id": "c543f6b6a312104c",
   "outputs": [],
   "execution_count": 21
  },
  {
   "metadata": {},
   "cell_type": "markdown",
   "source": "# Expresiones cortas en estructuras de datos:",
   "id": "eb005772a4b11391"
  },
  {
   "metadata": {
    "ExecuteTime": {
     "end_time": "2025-08-28T23:26:09.373640Z",
     "start_time": "2025-08-28T23:26:09.369198Z"
    }
   },
   "cell_type": "code",
   "source": [
    "# Diccionario de operaciones\n",
    "operaciones ={\n",
    "    \"suma\": lambda a, b: a + b,\n",
    "    \"resta\": lambda a, b: a - b,\n",
    "}\n",
    "\n",
    "print(operaciones[\"suma\"](10, 5))"
   ],
   "id": "5c0859003c25e249",
   "outputs": [
    {
     "name": "stdout",
     "output_type": "stream",
     "text": [
      "15\n"
     ]
    }
   ],
   "execution_count": 22
  },
  {
   "metadata": {},
   "cell_type": "markdown",
   "source": [
    "1. `lambda args: `expr → función corta y anónima.\n",
    "2. Úsala en map, `filter`, reduce, sorted, callbacks.\n",
    "3. Evita abusar → si el código crece, usa def.\n",
    "4. Python favorece comprensiones `([x for x in iterable])` sobre `map/filter` + `lambda `por legibilidad."
   ],
   "id": "390882d4a4261e50"
  },
  {
   "metadata": {},
   "cell_type": "markdown",
   "source": [
    "# Composición de funciones\n",
    "\n",
    "1. Son una técnica fundamental en programación funcional que consiste en combinar funciones simples para construir una función más compleja.\n",
    "\n",
    "2. Se trata de pasar la salida de una función como la entrada de la siguiente, creando una cadena de transformaciones.\n",
    "\n",
    "Encadenar transformaciones pequeñas."
   ],
   "id": "a2d3ef751d4be715"
  },
  {
   "metadata": {
    "ExecuteTime": {
     "end_time": "2025-08-28T23:26:11.605871Z",
     "start_time": "2025-08-28T23:26:11.598864Z"
    }
   },
   "cell_type": "code",
   "source": [
    "def filtrar_pares(nums):\n",
    "    return [n for n in nums if n % 2 == 0]\n",
    "\n",
    "def elevar_al_cuadrado(nums):\n",
    "    return [n**2 for n in nums]\n",
    "\n",
    "num_list = [1, 2, 3, 4, 5, 6]\n",
    "\n",
    "# Composición: filtrar pares y luego elevar al cuadrado\n",
    "resultado = elevar_al_cuadrado(filtrar_pares(num_list))\n",
    "print(resultado)"
   ],
   "id": "8a35604c2b3f203f",
   "outputs": [
    {
     "name": "stdout",
     "output_type": "stream",
     "text": [
      "[4, 16, 36]\n"
     ]
    }
   ],
   "execution_count": 23
  },
  {
   "metadata": {},
   "cell_type": "markdown",
   "source": [
    "Cada función hace una sola cosa, y juntas crean un **Pipeline.**\n",
    "\n",
    "**Nivel Junior**\n",
    "\n",
    " la composición se entiende como el encadenamiento de llamadas a funciones. Es la base de un código más modular y legible.\n",
    "\n",
    "**Concepto**\n",
    "\n",
    "Imagina una línea de ensamblaje: un producto (el dato) pasa por diferentes estaciones (funciones), donde cada una realiza una tarea específica.\n",
    "\n",
    "La salida de la primera estación es la entrada de la segunda, y así sucesivamente.\n",
    "\n",
    "**Métodos y Funciones**\n",
    "\n",
    "El método más básico para un principiante es anidar llamadas a funciones."
   ],
   "id": "eadf7f4e8cc273c"
  },
  {
   "metadata": {
    "ExecuteTime": {
     "end_time": "2025-08-28T23:26:13.159737Z",
     "start_time": "2025-08-28T23:26:13.153629Z"
    }
   },
   "cell_type": "code",
   "source": [
    "def sumar_dos(x):\n",
    "    return x + 2\n",
    "\n",
    "def multiplicar_por_tres(x):\n",
    "    return x * 3\n",
    "\n",
    "# Composición manual: el resultado de 'sumar_dos(5)' es la entrada de 'multiplicar_por_tres'.\n",
    "resultado = multiplicar_por_tres(sumar_dos(5))\n",
    "print(resultado)  # Salida: 21"
   ],
   "id": "95228fb6490d100e",
   "outputs": [
    {
     "name": "stdout",
     "output_type": "stream",
     "text": [
      "21\n"
     ]
    }
   ],
   "execution_count": 24
  },
  {
   "metadata": {},
   "cell_type": "markdown",
   "source": [
    "* Este enfoque, aunque funcional, puede volverse difícil de leer a medida que se anidan más funciones.\n",
    "\n",
    "* La legibilidad de derecha a izquierda o de adentro hacia afuera puede ser confusa."
   ],
   "id": "e4a0c14cc5aced6e"
  },
  {
   "metadata": {},
   "cell_type": "markdown",
   "source": [
    "**Nivel Senior**\n",
    "\n",
    "A nivel senior, la composición se ve como un concepto de abstracción. En lugar de anidar llamadas, se crea una nueva función compuesta que encapsula toda la lógica. Esto hace que el código sea más reutilizable, declarativo y fácil de probar.\n",
    "\n",
    "**Concepto**\n",
    "\n",
    "Se utilizan herramientas para crear un `\"Pipeline`\" o **\"tubería\"** de datos. En lugar de decir \"hacer A, luego hacer B, luego C\", se define una nueva función llamada \"hacer_ABC\" que ya sabe cómo combinar las tres.\n",
    "\n",
    "**Herramientas y Métodos**\n",
    "\n",
    "Los programadores experimentados no anidan llamadas; en su lugar, escriben una función que compone otras. En Python, esto se puede hacer de forma manual o con librerías.\n",
    "\n",
    "1. Composición manual (usando una función que devuelve una función):"
   ],
   "id": "ad3c8fb378003a71"
  },
  {
   "metadata": {
    "ExecuteTime": {
     "end_time": "2025-08-28T23:57:51.400466Z",
     "start_time": "2025-08-28T23:57:51.393862Z"
    }
   },
   "cell_type": "code",
   "source": [
    "def componer(f, g):\n",
    "    \"\"\"\n",
    "    Toma dos funciones f y g, y devuelve una nueva función\n",
    "    que aplica g, y luego f sobre el resultado.\n",
    "    \"\"\"\n",
    "    def funcion_compuesta(x):\n",
    "        return f(g(x))\n",
    "    return funcion_compuesta\n",
    "\n",
    "# Creamos una funcion compuesta\n",
    "sumar_dos = lambda x: x + 2\n",
    "multiplicar_por_tres = lambda x: x * 3\n",
    "\n",
    "# La funcion 'duplicar_y_sumar' primero suma 2 y luego multiplica por 3\n",
    "duplicar_y_sumar = componer(sumar_dos, multiplicar_por_tres)\n",
    "\n",
    "resultado =duplicar_y_sumar(5)\n",
    "print(resultado)\n",
    "\n",
    "# Salida: 17 (multiplica 5*3=15, luego suma 15+2=17)"
   ],
   "id": "508302fa4e82e4df",
   "outputs": [
    {
     "name": "stdout",
     "output_type": "stream",
     "text": [
      "17\n"
     ]
    }
   ],
   "execution_count": 8
  },
  {
   "metadata": {},
   "cell_type": "markdown",
   "source": "Nota: El orden es importante. En este caso, f(g(x)) aplica g primero.",
   "id": "44b2927e12093e12"
  },
  {
   "metadata": {},
   "cell_type": "markdown",
   "source": [
    "# Uso de librerías:\n",
    "\n",
    "Las librerías funcionales de terceros como toolz o pipe ofrecen herramientas para una composición más limpia y potente, similar a las características de otros lenguajes puramente funcionales."
   ],
   "id": "64cb865bfea25b12"
  },
  {
   "metadata": {
    "ExecuteTime": {
     "end_time": "2025-08-28T23:58:31.362574Z",
     "start_time": "2025-08-28T23:58:31.355770Z"
    }
   },
   "cell_type": "code",
   "source": [
    "# pip install pipe\n",
    "from pipe import select, where, Pipe\n",
    "\n",
    "# Se crea un pipeline de operaciones\n",
    "sumar_dos = lambda x: x + 2\n",
    "multiplicar_por_tres = lambda x: x * 3\n",
    "\n",
    "# Usando el operador de tubería '|'\n",
    "# El dato inicial 5 \"pasa\" a través de cada función.\n",
    "resultado = 5 | Pipe(multiplicar_por_tres) | Pipe(sumar_dos)\n",
    "print(resultado) # Salida: 17"
   ],
   "id": "a45177e5290ece74",
   "outputs": [
    {
     "name": "stdout",
     "output_type": "stream",
     "text": [
      "17\n"
     ]
    }
   ],
   "execution_count": 10
  },
  {
   "metadata": {},
   "cell_type": "markdown",
   "source": [
    "**Ventajas del enfoque senior:**\n",
    "\n",
    "**Legibilidad de izquierda a derecha:** Las herramientas de tubería permiten leer el flujo de datos de manera intuitiva.\n",
    "\n",
    "**Reutilización:** Se pueden crear funciones compuestas para ser usadas en múltiples lugares del código.\n",
    "\n",
    "**Declarativo:** El código describe \"qué\" se hace (el flujo de datos) en lugar de \"cómo\" se hace (anidando llamadas).\n",
    "\n",
    "**Facilidad de prueba:** Cada función de la composición puede ser probada de forma independiente, lo que simplifica la depuración."
   ],
   "id": "f04e80e02fe29eb3"
  },
  {
   "metadata": {},
   "cell_type": "markdown",
   "source": [
    " # Pipeline (Tubería de Datos):\n",
    "\n",
    "* Es un concepto de diseño en programación.\n",
    "\n",
    "* Consiste en una secuencia de pasos de procesamiento de datos, donde la salida de un paso se convierte en la entrada del siguiente.\n",
    "\n",
    "* Imagina una línea de ensamblaje: cada función es una estación que realiza una tarea específica.\n",
    "\n",
    "# Características principales:\n",
    "\n",
    "1. **Modularidad:** Cada paso del pipeline es una función pequeña y especializada que realiza una única tarea (ej: filtrar, transformar, validar).\n",
    "2. **Composición:** Se combinan estas funciones simples para construir un proceso complejo.\n",
    "3. **Flujo de datos:** El dato \"viaja\" a través de la tubería, transformándose en cada paso.\n",
    "\n",
    "**¿Por qué usar Pipelines?**\n",
    "\n",
    "1. **Legibilidad:** El código se vuelve más fácil de leer porque describe una secuencia de transformaciones de izquierda a derecha, en lugar de `anidar funciones (g(f(h(x))))`.\n",
    "2. **Reutilización:** Las funciones pequeñas y puras se pueden reutilizar en diferentes pipelines.\n",
    "3. **Mantenimiento y Pruebas:** Es más fácil probar y depurar cada paso de forma aislada.\n",
    "\n",
    "* En tu código, ya creaste un pipeline simple anidando funciones:\n",
    "`resultado = elevar_al_cuadrado(filtrar_pares(num_list)).`\n",
    "\n",
    "# ¿Cómo se implementan los Pipelines en Python?\n",
    "\n",
    "Existen varias formas de crear pipelines en Python, desde las más básicas hasta las más elegantes con librerías.\n",
    "\n",
    "**1. Anidando Funciones (El método básico)**\n",
    "Es la forma más directa. Se pasa el resultado de una función como argumento a la siguiente."
   ],
   "id": "e455bfdc70543b81"
  },
  {
   "metadata": {
    "ExecuteTime": {
     "end_time": "2025-08-29T02:47:11.863587Z",
     "start_time": "2025-08-29T02:47:11.852695Z"
    }
   },
   "cell_type": "code",
   "source": [
    "def filtrar_pares(numeros):\n",
    "    return [n for n in numeros if n % 2 == 0]\n",
    "\n",
    "def elevar_al_cuadrado(numeros):\n",
    "    return [n**2 for n in numeros]\n",
    "\n",
    "numeros = [1, 2, 3, 4, 5, 6]\n",
    "\n",
    "# La salida de filtrar_pares es la entrada de elevar_al_cuadrado\n",
    "resultado = elevar_al_cuadrado(filtrar_pares(numeros))\n",
    "\n",
    "print(resultado)\n",
    "# Salida: [4, 16, 36]"
   ],
   "id": "272719a14962a647",
   "outputs": [
    {
     "name": "stdout",
     "output_type": "stream",
     "text": [
      "[4, 16, 36]\n"
     ]
    }
   ],
   "execution_count": 20
  },
  {
   "metadata": {},
   "cell_type": "markdown",
   "source": "Desventaja: Con muchas funciones, el código se vuelve difícil de leer `(funcion_c(funcion_b(funcion_a(datos)))).`",
   "id": "679497b36e1fa40d"
  },
  {
   "metadata": {},
   "cell_type": "markdown",
   "source": [
    "**2. Usando Variables Intermedias**\n",
    "Para mejorar la legibilidad del anidamiento, se pueden usar variables temporales."
   ],
   "id": "6a4854cf709a0a25"
  },
  {
   "metadata": {
    "ExecuteTime": {
     "end_time": "2025-08-29T02:44:40.273199Z",
     "start_time": "2025-08-29T02:44:40.262779Z"
    }
   },
   "cell_type": "code",
   "source": [
    "numeros = [1, 2, 3, 4, 5, 6]\n",
    "\n",
    "numeros_pares = filtrar_pares(numeros)\n",
    "numeros_cuadrados = elevar_al_cuadrado(numeros_pares)\n",
    "\n",
    "print(numeros_cuadrados)\n",
    "# Salida: [4, 16, 36]"
   ],
   "id": "3319843f85a0bf2e",
   "outputs": [
    {
     "name": "stdout",
     "output_type": "stream",
     "text": [
      "[4, 16, 36]\n"
     ]
    }
   ],
   "execution_count": 19
  },
  {
   "metadata": {},
   "cell_type": "markdown",
   "source": "Ventaja: Es más claro, pero más verboso.",
   "id": "ed2e94dc41d0d891"
  },
  {
   "metadata": {},
   "cell_type": "markdown",
   "source": [
    "**3. Usando la Librería pipe (El método funcional y elegante)**\n",
    "\n",
    "Librerías como `pipe` introducen un operador de tubería `(|)` que permite encadenar funciones de una manera muy legible y declarativa.\n",
    "\n",
    "Primero, instala la librería:\n",
    "\n",
    "`pip install pipe`\n",
    "\n",
    "# La librería pipe:\n",
    "\n",
    "* Es una herramienta (una librería de Python) que te permite escribir pipelines de una manera más clara y legible, `usando el operador | (pipe).`\n",
    "\n",
    "* En lugar de `anidar funciones (g(f(x)))`, escribes el flujo de datos de izquierda a derecha: `datos | f | g.`\n",
    "\n",
    "*Esto hace que el código sea más declarativo, ya que describe el flujo de transformaciones en lugar de la mecánica de las llamadas a funciones."
   ],
   "id": "93ce34fd48b44400"
  },
  {
   "metadata": {
    "ExecuteTime": {
     "end_time": "2025-08-29T02:49:39.633230Z",
     "start_time": "2025-08-29T02:49:39.623705Z"
    }
   },
   "cell_type": "code",
   "source": [
    "from pipe import where, select\n",
    "\n",
    "numeros = [1, 2, 3, 4, 5, 6]\n",
    "\n",
    "# El flujo de datos se lee de izquierda a derecha\n",
    "resultado_pipe = numeros | where(lambda n: n % 2 == 0) | select(lambda n: n**2)\n",
    "\n",
    "print(list(resultado_pipe))\n",
    "# Salida: [4, 16, 36]"
   ],
   "id": "fc73baed9d00ef4",
   "outputs": [
    {
     "name": "stdout",
     "output_type": "stream",
     "text": [
      "[4, 16, 36]\n"
     ]
    }
   ],
   "execution_count": 21
  },
  {
   "metadata": {},
   "cell_type": "markdown",
   "source": [
    "Explicación:\n",
    "* numeros | ...: El iterable numeros inicia el pipeline.\n",
    "* where(lambda n: n % 2 == 0): Filtra los elementos del iterable, similar a filter(). Solo deja pasar los que cumplen la condición.\n",
    "* select(lambda n: n**2): Transforma (mapea) cada elemento que pasó el filtro, similar a map().Resumen: Pipeline vs. Librería pipe"
   ],
   "id": "5d839b04d56d8236"
  },
  {
   "metadata": {},
   "cell_type": "markdown",
   "source": [
    "**Ejemplo práctico:**\n",
    "\n",
    "En lugar de escribir esto (estilo anidado):"
   ],
   "id": "55074c9efedfff73"
  },
  {
   "metadata": {
    "ExecuteTime": {
     "end_time": "2025-08-29T02:50:48.426462Z",
     "start_time": "2025-08-29T02:50:48.418190Z"
    }
   },
   "cell_type": "code",
   "source": [
    "n = [1, 2, 3, 4, 5, 6]\n",
    "# Filtra pares y luego eleva al cuadrado\n",
    "\n",
    "resultado_anidado = elevar_al_cuadrado(filtrar_pares(n))\n",
    "print(list(resultado_anidado))\n",
    "# Salida: [4, 16, 36]"
   ],
   "id": "905e2b01bed2b752",
   "outputs": [
    {
     "name": "stdout",
     "output_type": "stream",
     "text": [
      "[4, 16, 36]\n"
     ]
    }
   ],
   "execution_count": 22
  },
  {
   "metadata": {},
   "cell_type": "markdown",
   "source": "Con la librería pipe, escribes esto:",
   "id": "c47bc3b5ab93bd6d"
  },
  {
   "metadata": {
    "ExecuteTime": {
     "end_time": "2025-08-29T02:51:33.233330Z",
     "start_time": "2025-08-29T02:51:33.226290Z"
    }
   },
   "cell_type": "code",
   "source": [
    "from pipe import where, select\n",
    "\n",
    "n = [1, 2, 3, 4, 5, 6]\n",
    "\n",
    "# El mismo flujo, pero escrito con el operador pipe '|'\n",
    "resultado_pipe = n | where(lambda x: x % 2 == 0) | select(lambda x: x ** 2)\n",
    "\n",
    "print(list(resultado_pipe))\n",
    "# Salida: [4, 16, 36]"
   ],
   "id": "d0e24c34ccb497fb",
   "outputs": [
    {
     "name": "stdout",
     "output_type": "stream",
     "text": [
      "[4, 16, 36]\n"
     ]
    }
   ],
   "execution_count": 23
  },
  {
   "metadata": {},
   "cell_type": "markdown",
   "source": "Un pipeline es la idea de encadenar operaciones, y la librería pipe te da una sintaxis elegante (|) para construir esos pipelines en tu código.",
   "id": "ec66582f571d5445"
  },
  {
   "metadata": {},
   "cell_type": "markdown",
   "source": [
    "# Funciones principales de pipe\n",
    "\n",
    "La librería viene con una serie de funciones predefinidas (llamadas \"pipes\") que cubren las operaciones más comunes de procesamiento de colecciones. Las más importantes son:\n",
    "\n",
    "1. **where(predicado)**: Filtra los elementos de una colección. Es el equivalente a filter(). Solo deja pasar los elementos para los que el predicado (una función lambda o normal) devuelve True.\n",
    "2. **select(transformacion):** Transforma cada elemento de la colección. Es el equivalente a map(). Aplica la función de transformacion a cada elemento.\n",
    "3. **dedup():** Elimina elementos duplicados consecutivos de la colección. Para eliminar todos los duplicados (no solo los consecutivos), puedes usar | dedup(key=lambda x: x).\n",
    "4. **sort():** Ordena los elementos. Puedes pasarle un key como en la función sorted() de Python.\n",
    "6. **reverse():** Invierte el orden de los elementos de la colección.\n",
    "7. **groupby(clave):** Agrupa los elementos según una clave (una función). Devuelve tuplas (clave, grupo).\n",
    "8. **take(n):** Toma los primeros n elementos de la colección."
   ],
   "id": "6487c1f41995937a"
  },
  {
   "metadata": {},
   "cell_type": "markdown",
   "source": [
    "**Ejemplo práctico**\n",
    "\n",
    "Retomemos el ejemplo de filtrar números pares y elevarlos al cuadrado.\n",
    "\n",
    "1. Sin pipe (anidando funciones):"
   ],
   "id": "aaab9f13346ab828"
  },
  {
   "metadata": {
    "ExecuteTime": {
     "end_time": "2025-08-29T03:06:52.022663Z",
     "start_time": "2025-08-29T03:06:52.011467Z"
    }
   },
   "cell_type": "code",
   "source": [
    "def filtrar_pares(nums):\n",
    "    return [n for n in nums if n % 2 == 0]\n",
    "\n",
    "def elevar_al_cuadrado(nums):\n",
    "    return [n**2 for n in nums]\n",
    "\n",
    "numeros = [1, 2, 3, 4, 5, 6]\n",
    "resultado_anidado = elevar_al_cuadrado(filtrar_pares(numeros))\n",
    "print(resultado_anidado)  # Salida: [4, 16, 36]"
   ],
   "id": "b710ae312ce2e49d",
   "outputs": [
    {
     "name": "stdout",
     "output_type": "stream",
     "text": [
      "[4, 16, 36]\n"
     ]
    }
   ],
   "execution_count": 24
  },
  {
   "metadata": {},
   "cell_type": "markdown",
   "source": "2. Con la librería pipe:",
   "id": "90cdd2edfa6746c1"
  },
  {
   "metadata": {
    "ExecuteTime": {
     "end_time": "2025-08-29T03:09:51.523943Z",
     "start_time": "2025-08-29T03:09:51.515409Z"
    }
   },
   "cell_type": "code",
   "source": [
    "from pipe import where, select\n",
    "\n",
    "numero = [1, 2, 3, 4, 5, 6]\n",
    "\n",
    "# El flujo de datos se lee de izquierda a derecha\n",
    "resultado_pipe = numero | where(lambda n: n % 2 == 0) | select(lambda n: n**2)\n",
    "\n",
    "# El resultado de un pipeline es un generador, por eso lo convertimos a lista\n",
    "print(list(resultado_pipe))\n",
    "# Salida: [4, 16, 36]"
   ],
   "id": "6e94177bb1dc1896",
   "outputs": [
    {
     "name": "stdout",
     "output_type": "stream",
     "text": [
      "[4, 16, 36]\n"
     ]
    }
   ],
   "execution_count": 26
  },
  {
   "metadata": {},
   "cell_type": "markdown",
   "source": [
    "* Como puedes ver, la versión con` pipe` describe el proceso paso a paso de forma lineal y es más fácil de seguir.\n",
    "\n",
    "* Creando tus propias funciones para pipe\n",
    "\n",
    "* Puedes integrar tus propias funciones en un pipeline usando el decorador `@Pipe`.\n"
   ],
   "id": "13917bb65064978a"
  },
  {
   "metadata": {
    "ExecuteTime": {
     "end_time": "2025-08-29T03:13:21.815010Z",
     "start_time": "2025-08-29T03:13:21.805300Z"
    }
   },
   "cell_type": "code",
   "source": [
    "from pipe import Pipe\n",
    "\n",
    "@Pipe\n",
    "def sumar_uno(iterable):\n",
    "    for elemento in iterable:\n",
    "        yield elemento + 1\n",
    "\n",
    "\n",
    "numeros = [1, 2, 3]\n",
    "\n",
    "resultado = numeros | sumar_uno | select(lambda x: x * 10)\n",
    "\n",
    "print(list(resultado))"
   ],
   "id": "8cae3659c8482505",
   "outputs": [
    {
     "name": "stdout",
     "output_type": "stream",
     "text": [
      "[20, 30, 40]\n"
     ]
    }
   ],
   "execution_count": 28
  },
  {
   "metadata": {},
   "cell_type": "markdown",
   "source": [
    "La función decorada con `@Pipe `debe aceptar un iterable como primer argumento y usar yield para devolver los elementos procesados, manteniendo así la evaluación perezosa (los datos se procesan uno a uno, sin cargar todo en memoria).\n",
    "\n",
    "* Ventajas de usar `pipe`\n",
    "\n",
    "1. **Legibilidad:** El código es mucho más fácil de leer y entender, ya que el flujo de datos es lineal.\n",
    "2. **Composición:** Facilita la construcción de procesos complejos a partir de funciones simples y reutilizables.\n",
    "3. **Evaluación Perezosa (Lazy Evaluation):** Las operaciones no se ejecutan hasta que se consume el resultado (por ejemplo, con `list()).` Esto es muy eficiente en memoria, especialmente con grandes volúmenes de datos.\n",
    "4. **Código Declarativo:** Te centras en \"qué\" quieres hacer con los datos, no en \"cómo\" (bucles, variables temporales, etc.)."
   ],
   "id": "6b655eea871c3c6f"
  },
  {
   "metadata": {},
   "cell_type": "markdown",
   "source": [
    "#  otros paquetes que implementan pipelines en Python:\n",
    "\n",
    "**1. itertools (nativo de Python)**\n",
    "\n",
    "* El módulo `itertools` permite crear pipelines con iteradores de manera eficiente."
   ],
   "id": "2c2da0cfd2bfda47"
  },
  {
   "metadata": {
    "ExecuteTime": {
     "end_time": "2025-08-29T04:33:00.806565Z",
     "start_time": "2025-08-29T04:33:00.794690Z"
    }
   },
   "cell_type": "code",
   "source": [
    "import itertools\n",
    "\n",
    "# Pipeline: Filtrar pares y luego elevar al cuadrado\n",
    "numeros = [1, 2, 3, 4, 5, 6]\n",
    "pares = filter(lambda x: x % 2 == 0, numeros)\n",
    "cuadrados = map(lambda x: x**2, pares)\n",
    "\n",
    "print(list(cuadrados))\n",
    "# Salida: [4, 16, 36]"
   ],
   "id": "e0796ec68246f36e",
   "outputs": [
    {
     "name": "stdout",
     "output_type": "stream",
     "text": [
      "[4, 16, 36]\n"
     ]
    }
   ],
   "execution_count": 29
  },
  {
   "metadata": {},
   "cell_type": "markdown",
   "source": [
    "**2. pandas (para datos tabulares)**\n",
    "\n",
    "* pandas permite construir pipelines con métodos encadenados."
   ],
   "id": "291e741d77828e36"
  },
  {
   "metadata": {
    "ExecuteTime": {
     "end_time": "2025-08-29T04:48:28.801162Z",
     "start_time": "2025-08-29T04:48:28.050388Z"
    }
   },
   "cell_type": "code",
   "source": [
    "import pandas as pd\n",
    "\n",
    "# Pipeline: filter pares y elevar al cuadrado\n",
    "df = pd.DataFrame({'numeros': [1, 2, 3, 4, 5, 6]})\n",
    "resultado = df[df['numeros'] % 2 == 0].assign(cuadrado=lambda x: x['numeros']**2)\n",
    "\n",
    "print(resultado)\n",
    "# Salida:\n",
    "#    numeros  cuadrado\n",
    "# 1        2         4\n",
    "# 3        4        16\n",
    "# 5        6        36\n"
   ],
   "id": "83bd3dac6df7755f",
   "outputs": [
    {
     "name": "stdout",
     "output_type": "stream",
     "text": [
      "   numeros  cuadrado\n",
      "1        2         4\n",
      "3        4        16\n",
      "5        6        36\n"
     ]
    }
   ],
   "execution_count": 32
  },
  {
   "metadata": {},
   "cell_type": "markdown",
   "source": [
    " # Mejores prácticas para implementar pipelines en Python:\n",
    "\n",
    " 1. Modularidad\n",
    "Divide cada paso del pipeline en funciones pequeñas y específicas que realicen una única tarea."
   ],
   "id": "49710fb2a178e7b9"
  },
  {
   "metadata": {
    "ExecuteTime": {
     "end_time": "2025-08-29T04:53:51.461319Z",
     "start_time": "2025-08-29T04:53:51.453267Z"
    }
   },
   "cell_type": "code",
   "source": [
    "def filtrar_pares(nums):\n",
    "    return [n for n in nums if n % 2 == 0]\n",
    "\n",
    "def elevar_al_cuadrado(nums):\n",
    "    return [n**2 for n in nums]"
   ],
   "id": "d0024bdad1baa434",
   "outputs": [],
   "execution_count": 33
  },
  {
   "metadata": {},
   "cell_type": "markdown",
   "source": [
    "**2. Funciones puras**\n",
    "\n",
    "Asegúrate de que las funciones no tengan efectos secundarios y siempre devuelvan el mismo resultado para las mismas entradas.\n",
    "\n",
    "**3. Uso de herramientas declarativas**\n",
    "\n",
    "Usa librerías como pipe, toolz o pandas para mejorar la legibilidad y evitar anidamientos complejos."
   ],
   "id": "e1bb8c60c08e608c"
  },
  {
   "metadata": {
    "ExecuteTime": {
     "end_time": "2025-08-29T04:54:44.496561Z",
     "start_time": "2025-08-29T04:54:44.485703Z"
    }
   },
   "cell_type": "code",
   "source": [
    "from pipe import where, select\n",
    "\n",
    "numeros = [1, 2, 3, 4, 5, 6]\n",
    "resultado = numeros | where(lambda n: n % 2 == 0) | select(lambda n: n**2)\n",
    "print(list(resultado))"
   ],
   "id": "d46d426b53d56d7f",
   "outputs": [
    {
     "name": "stdout",
     "output_type": "stream",
     "text": [
      "[4, 16, 36]\n"
     ]
    }
   ],
   "execution_count": 34
  },
  {
   "metadata": {},
   "cell_type": "markdown",
   "source": [
    "\n",
    "**4. Evita mutaciones**\n",
    "\n",
    "Trabaja con estructuras inmutables o crea nuevas estructuras en lugar de modificar las existentes.\n",
    "\n",
    "**5. Legibilidad**\n",
    "\n",
    "Usa nombres descriptivos para las funciones y variables.\n",
    "Prefiere pipelines declarativos sobre anidamientos complejos.\n",
    "\n",
    "**6. Pruebas unitarias**\n",
    "\n",
    "Prueba cada función individualmente para garantizar que cada paso del pipeline funcione correctamente.\n",
    "\n",
    "**7. Evaluación perezosa**\n",
    "\n",
    "Si trabajas con grandes volúmenes de datos, usa generadores o iteradores para evitar cargar todo en memoria.\n",
    "\n",
    "**8. Documentación**\n",
    "\n",
    "Documenta cada paso del pipeline para que otros desarrolladores puedan entenderlo fácilmente.\n",
    "\n",
    "**9. Uso de excepciones**\n",
    "\n",
    "Maneja errores en cada paso del pipeline para evitar que un fallo interrumpa todo el proceso.\n",
    "\n",
    "**10. Reutilización**\n",
    "\n",
    "Diseña funciones genéricas que puedan ser reutilizadas en diferentes pipelines."
   ],
   "id": "2dd2d65a44558d8e"
  },
  {
   "metadata": {},
   "cell_type": "markdown",
   "source": [
    "# Aplicaciones en proyectos reales\n",
    "\n",
    "**1. Procesamiento de datos (ETL)**\n",
    "\n",
    "En proyectos de análisis de datos, los pipelines se usan para extraer, transformar y cargar datos (ETL).\n",
    "\n"
   ],
   "id": "c208944fa56a36c"
  },
  {
   "metadata": {
    "ExecuteTime": {
     "end_time": "2025-08-29T14:57:28.586751Z",
     "start_time": "2025-08-29T14:57:24.433810Z"
    }
   },
   "cell_type": "code",
   "source": [
    "import pandas as pd\n",
    "\n",
    "# Pipeline de ETL\n",
    "def extraer_datos():\n",
    "    return pd.DataFrame({'nombre': ['Ana', 'Carlos'], 'edad': [30, 25]})\n",
    "\n",
    "def transformar_datos(df):\n",
    "    return df[df['edad'] > 26].assign(edad_cuadrada=lambda x: x['edad']**2)\n",
    "\n",
    "def cargar_datos(df):\n",
    "    print(\"Datos cargados:\")\n",
    "    print(df)\n",
    "\n",
    "# Ejecución del pipeline\n",
    "datos = extraer_datos()\n",
    "datos_transformados = transformar_datos(datos)\n",
    "cargar_datos(datos_transformados)"
   ],
   "id": "255f42bd14ee83f3",
   "outputs": [
    {
     "name": "stdout",
     "output_type": "stream",
     "text": [
      "Datos cargados:\n",
      "  nombre  edad  edad_cuadrada\n",
      "0    Ana    30            900\n"
     ]
    }
   ],
   "execution_count": 1
  },
  {
   "metadata": {},
   "cell_type": "markdown",
   "source": [
    "# 1. Preprocesamiento para Machine Learning con `scikit-learn`\n",
    "\n",
    "* En machine Learning, es crucial aplicar la misma secuencia de transformaciones a los datos de entrenamiento y de prueba.\n",
    "\n",
    "*  `scikit-learn` tiene una clase Pipeline diseñada especidificamente para esto.\n",
    "\n",
    "**Objetivo:** Preparar un conjunto de datos con valores numéricos y categóricos para entrenar un modelo de clasificación.\n",
    "\n",
    "**Pasos del Pipeline:**\n",
    "1. **Imputar valores faltantes:** Rellenar los NaN en columnas numéricas con la media.\n",
    "2. **Escalar características numéricas:** Normalizar los valores numéricos (ej. StandardScaler).\n",
    "3. **Codificar características categóricas:** Convertir texto a números (ej. OneHotEncoder).\n",
    "4. **Entrenar un modelo:** Usar los datos preprocesados para entrenar un clasificador.\n"
   ],
   "id": "7d5f28a7b4aac0cc"
  },
  {
   "metadata": {
    "ExecuteTime": {
     "end_time": "2025-08-29T16:55:31.822228Z",
     "start_time": "2025-08-29T16:55:31.656217Z"
    }
   },
   "cell_type": "code",
   "source": [
    "import pandas as pd\n",
    "from sklearn.model_selection import train_test_split\n",
    "from sklearn.pipeline import Pipeline\n",
    "from sklearn.impute import SimpleImputer\n",
    "from sklearn.preprocessing import StandardScaler, OneHotEncoder\n",
    "from sklearn.compose import ColumnTransformer\n",
    "from sklearn.ensemble import RandomForestClassifier\n",
    "\n",
    "# Datos de ejemplo con valores faltantes y diferentes tipos de datos. Donde data es una lista de diccionarios.\n",
    "data = {\n",
    "    'age': [25, 30, None, 45, 22],\n",
    "    'salary': [50000, 60000,75000, None, 55000],\n",
    "    'city': ['Barcelona', 'Madrid', 'Lisboa', 'Paris', 'Madrid'],\n",
    "    'purchases': [0, 1, 1, 1, 0]\n",
    "}\n",
    "\n",
    "# Crear un dataframe de pandas con los datos de ejemplo.\n",
    "df = pd.DataFrame(data)\n",
    "\n",
    "# aqui puedes ver el dataframe\n",
    "# df\n",
    "\n",
    "# Separa características y objetivo y usamos los metodos drop y assign para eliminar la columna objetivo y crear una nueva columna con el nombre de la columna objetivo.\n",
    "# purchase es la columna objetivo y drop es para eliminar la columna objetivo.\n",
    "#  la variable y es la columna objetivo.\n",
    "X = df.drop('purchases', axis=1)\n",
    "y = df['purchases']\n",
    "\n",
    "# Identificar columnas numéricas y categóricas\n",
    "numeric_features = ['age', 'salary']\n",
    "categorical_features = ['city']\n",
    "\n",
    "# Crear un pipeline para preprocesamiento los datos numéricos.\n",
    "# el metodo imputer es para rellenar los NaN con la media,\n",
    "# el metodo means es para calcular la media de los datos.\n",
    "# stratery es para calcular la media de los datos. SimpleImputer es para rellenar los NaN con la media. StandardScaler es para normalizar los datos.\n",
    "# el metodo scaler es para normalizar los datos,\n",
    "numeric_transformer = Pipeline(steps=[\n",
    "    ('imputer', SimpleImputer(strategy='mean')),  # Imputar valores faltantes con la media\n",
    "    ('scaler', StandardScaler())  # Escalar características, StandardScaler es para normalizar los datos.\n",
    "])\n",
    "\n",
    "# Crear el pipeline de procesamiento para datos categóricos\n",
    "categorical_transformer = Pipeline(steps=[\n",
    "    ('imputer', SimpleImputer(strategy='most_frequent')),\n",
    "    ('onehot', OneHotEncoder(handle_unknown='ignore')) # paso 3: Codificar\n",
    "])\n",
    "\n",
    "# Combinar los Pipeline para procesamiento usando ColumnTransformer\n",
    "preprocessor = ColumnTransformer(\n",
    "    transformers = [\n",
    "        ('num', numeric_transformer, numeric_features),\n",
    "        ('cat', categorical_transformer, categorical_features)\n",
    "    ]\n",
    ")\n",
    "\n",
    "# Crear el Pipeline final que incluye el preprocesamiento y el modelo\n",
    "ml_pipeline = Pipeline(steps=[\n",
    "    ('preprocessor', preprocessor),\n",
    "    ('classifier', RandomForestClassifier()) # Paso 4: Modelo\n",
    "])\n",
    "\n",
    "# Entrenar todo el Pipeline con una sola llamada\n",
    "X_train, X_test, y_train, y_test = train_test_split(X, y, test_size=0.2, random_state=42)\n",
    "ml_pipeline.fit(X_train, y_train)\n",
    "\n",
    "# El Pipiline se encarga de transpormar los datos y predecir\n",
    "print(f\"Precisión del modelo: {ml_pipeline.score(X_test, y_test)}\")"
   ],
   "id": "abaf64ec8264228",
   "outputs": [
    {
     "name": "stdout",
     "output_type": "stream",
     "text": [
      "Precisión del modelo: 1.0\n"
     ]
    }
   ],
   "execution_count": 7
  },
  {
   "metadata": {},
   "cell_type": "markdown",
   "source": [
    "# 2. Procesamiento de Lenguaje Natural (NLP) con spaCy\n",
    "\n",
    "* La librería `spaCy` está construida alrededor del concepto de un pipeline de procesamiento de texto. Cuando procesas un texto, este pasa a través de varias etapas como tokenización, etiquetado gramatical, etc.\n",
    "\n",
    "**Objetivo:** Limpiar y extraer información clave de una serie de comentarios de usuarios.\n",
    "\n",
    "**Pasos del Pipeline:**\n",
    "\n",
    "1. **Tokenización:** Dividir el texto en palabras y signos de puntuación.\n",
    "2. **Lematización:** Reducir cada palabra a su forma base (ej. \"corriendo\" -> \"correr\").\n",
    "3. **Eliminación de Stop Words:** Quitar palabras comunes que no aportan significado (como \"el\", \"y\", \"un\").\n",
    "4. **Extracción de Entidades:** Identificar nombres de personas, organizaciones, lugares, etc."
   ],
   "id": "b8eff2fe180dda01"
  },
  {
   "metadata": {
    "ExecuteTime": {
     "end_time": "2025-08-29T16:55:33.944179Z",
     "start_time": "2025-08-29T16:55:33.485136Z"
    }
   },
   "cell_type": "code",
   "source": [
    "import spacy\n",
    "\n",
    "# Cargar un modelo de spaCy (la primera vez puede requerir: python -m spacy download es_core_news_sm)\n",
    "nlp = spacy.load(\"es_core_news_sm\")\n",
    "\n",
    "# El pipeline por defecto de este modelo es:\n",
    "# ['tok2vec', 'morphologizer', 'parser', 'attribute_ruler', 'lemmatizer', 'ner']\n",
    "print(\"Componentes del pipeline de spaCy:\", nlp.pipe_names)\n",
    "\n",
    "comments = [\n",
    "    \"Ana de Tejas Verdes compró acciones de Apple Inc. ayer en Madrid.\",\n",
    "    \"El CEO de Google, Sundar Pichai, dará una conferencia la próxima semana.\"\n",
    "]\n",
    "\n",
    "# Procesar los textos a través del pipeline de spaCy\n",
    "for doc in nlp.pipe(comments):\n",
    "    print(f\"\\n--- Comentario: '{doc.text}' ---\")\n",
    "\n",
    "    # Extraer lemas limpios (sin stop words ni puntuación)\n",
    "    lemmas_limpios = [\n",
    "        token.lemma_ for token in doc if not token.is_stop and not token.is_punct\n",
    "    ]\n",
    "    print(\"Lemas limpios:\", lemmas_limpios)\n",
    "\n",
    "    # Extraer entidades nombradas (NER)\n",
    "    print(\"Entidades encontradas:\")\n",
    "    for ent in doc.ents:\n",
    "        print(f\"  - {ent.text} ({ent.label_})\")"
   ],
   "id": "f8a7ac080a888570",
   "outputs": [
    {
     "name": "stdout",
     "output_type": "stream",
     "text": [
      "Componentes del pipeline de spaCy: ['tok2vec', 'morphologizer', 'parser', 'attribute_ruler', 'lemmatizer', 'ner']\n",
      "\n",
      "--- Comentario: 'Ana de Tejas Verdes compró acciones de Apple Inc. ayer en Madrid.' ---\n",
      "Lemas limpios: ['Ana', 'Tejas', 'Verdes', 'comprar', 'acción', 'Apple', 'Inc', 'ayer', 'Madrid']\n",
      "Entidades encontradas:\n",
      "  - Ana de Tejas Verdes (PER)\n",
      "  - Apple Inc (MISC)\n",
      "  - Madrid (LOC)\n",
      "\n",
      "--- Comentario: 'El CEO de Google, Sundar Pichai, dará una conferencia la próxima semana.' ---\n",
      "Lemas limpios: ['CEO', 'Google', 'Sundar', 'Pichai', 'dar', 'conferencia', 'próximo', 'semana']\n",
      "Entidades encontradas:\n",
      "  - Google (ORG)\n",
      "  - Sundar Pichai (PER)\n"
     ]
    }
   ],
   "execution_count": 8
  },
  {
   "metadata": {},
   "cell_type": "markdown",
   "source": [
    "# 3. Procesamiento de Imágenes con Pillow\n",
    "\n",
    "* Un pipeline también puede ser una secuencia de funciones para procesar archivos, como imágenes.\n",
    "\n",
    "* **Objetivo**: Crear miniaturas en escala de grises para un lote de imágenes.\n",
    "\n",
    "**Pasos del Pipeline:**\n",
    "\n",
    "1. **Leer archivo de imagen:** Abrir la imagen desde el disco.\n",
    "2. **Convertir a escala de grises:** Eliminar la información de color.\n",
    "3. **Redimensionar:** Cambiar el tamaño a un máximo de 128x128 píxeles.\n",
    "4. **Guardar resultado:** Escribir la nueva imagen en una carpeta de destino.\n",
    "\n"
   ],
   "id": "5babd83e0f17695d"
  },
  {
   "metadata": {
    "ExecuteTime": {
     "end_time": "2025-08-29T16:55:35.759898Z",
     "start_time": "2025-08-29T16:55:35.751914Z"
    }
   },
   "cell_type": "code",
   "source": [
    "from PIL import Image\n",
    "import glob\n",
    "import os\n",
    "\n",
    "# Función para el pipeline de una sola imagen\n",
    "def process_image_pipeline(image_path, output_dir, size=(128, 128)):\n",
    "    try:\n",
    "        # Paso 1: Leer\n",
    "        img = Image.open(image_path)\n",
    "\n",
    "        # Paso 2: Convertir a escala de grises\n",
    "        img_gray = img.convert('L')\n",
    "\n",
    "        # Paso 3: Redimensionar (crear miniatura)\n",
    "        img_gray.thumbnail(size)\n",
    "\n",
    "        # Paso 4: Guardar\n",
    "        base_name = os.path.basename(image_path)\n",
    "        output_path = os.path.join(output_dir, base_name)\n",
    "        img_gray.save(output_path)\n",
    "        print(f\"Procesada: {base_name}\")\n",
    "\n",
    "    except Exception as e:\n",
    "        print(f\"Error procesando {image_path}: {e}\")\n",
    "\n",
    "# --- Ejecución del pipeline para un lote de imágenes ---\n",
    "# (Asegúrate de tener una carpeta 'source_images' con algunas imágenes .jpg o .png\n",
    "# y una carpeta vacía 'thumbnails')\n",
    "\n",
    "SOURCE_DIR = 'source_images'\n",
    "OUTPUT_DIR = 'thumbnails'\n",
    "\n",
    "if not os.path.exists(OUTPUT_DIR):\n",
    "    os.makedirs(OUTPUT_DIR)\n",
    "\n",
    "# Obtener todas las imágenes de la carpeta de origen\n",
    "image_files = glob.glob(f'{SOURCE_DIR}/*[.jpg|.png]')\n",
    "\n",
    "# Aplicar el pipeline a cada imagen\n",
    "for file_path in image_files:\n",
    "    process_image_pipeline(file_path, OUTPUT_DIR)"
   ],
   "id": "a82b8b724bea2f42",
   "outputs": [
    {
     "name": "stdout",
     "output_type": "stream",
     "text": [
      "Procesada: tech.jpg\n"
     ]
    }
   ],
   "execution_count": 9
  },
  {
   "metadata": {},
   "cell_type": "markdown",
   "source": [
    "* Se crea un pipeline (una secuencia de pasos) para procesar automáticamente un lote de imágenes.\n",
    "\n",
    "* El objetivo es tomar todas las imágenes de una carpeta, convertirlas a escala de grises, crear una versión en miniatura `(thumbnail)` y guardarlas en una nueva carpeta.\n",
    "\n",
    "**Paso 1: Importar las librerías necesarias**\n",
    "\n",
    "`from PIL import Image`\n",
    "\n",
    "`import glob`\n",
    "\n",
    "`import os`\n",
    "\n",
    "* `from PIL import Image:` Se importa el módulo Image de la librería `Pillow (PIL Fork).` Esta es la herramienta principal para abrir, manipular y guardar imágenes.\n",
    "\n",
    "*`import glob`: Se importa el módulo glob, que sirve para encontrar archivos que coinciden con un patrón específico (por ejemplo, todos los archivos .jpg en una carpeta).\n",
    "\n",
    "* `import os:` Se importa el módulo os `(Operating System),` que proporciona funciones para interactuar con el sistema operativo, como crear carpetas `(os.makedirs) `o manipular rutas de archivos` (os.path.basename, os.path.join).`\n",
    "\n",
    "**Paso 2: Definir la función del pipeline (process_image_pipeline)**\n",
    "* Se define una función llamada process_image_pipeline que contiene toda la lógica para procesar una sola imagen.\n",
    "\n",
    "**Argumentos:**\n",
    "\n",
    "**image_path:** La ruta al archivo de la imagen que se va a procesar.\n",
    "\n",
    "**output_dir:** La carpeta donde se guardará la imagen procesada.\n",
    "\n",
    "**size=(128, 128):** El tamaño máximo para la miniatura. Es un argumento opcional con un valor por defecto de 128x128 píxeles.\n",
    "\n",
    "**try...except**: Se usa un bloque try...except para manejar posibles errores. Si algo falla al procesar una imagen (por ejemplo, el archivo está corrupto), el programa imprimirá un error y continuará con la siguiente imagen en lugar de detenerse por completo.\n",
    "\n",
    "**Paso 3: Lógica de procesamiento dentro de la función**\n",
    "\n",
    "* Leer: Image.open(image_path) abre el archivo de imagen desde la ruta especificada y lo carga en un objeto Image.\n",
    "\n",
    "* Convertir a escala de grises: img.convert('L') convierte la imagen a modo 'L' (Luminancia), que es la representación en escala de grises.\n",
    "\n",
    "* Redimensionar: img_gray.thumbnail(size) redimensiona la imagen. Es importante notar que .thumbnail() modifica la imagen in-place y mantiene la proporción original, asegurando que no se estire. La imagen resultante cabe dentro del cuadro delimitador definido por size (ej. 128x128).\n",
    "\n",
    "**Guardar:**\n",
    "\n",
    "* os.path.basename(image_path) extrae solo el nombre del archivo de la ruta completa (ej. de 'source_images/foto1.jpg' obtiene 'foto1.jpg').\n",
    "\n",
    "* os.path.join(output_dir, base_name) construye la ruta de destino completa para guardar la nueva imagen (ej. 'thumbnails/foto1.jpg').\n",
    "\n",
    "* img_gray.save(output_path) guarda la imagen procesada (en escala de grises y redimensionada) en la ruta de destino.\n",
    "\n",
    "* print(...) muestra un mensaje en la consola para confirmar que la imagen fue procesada.\n",
    "\n",
    "**Paso 4: Ejecución del pipeline para un lote de imágenes**\n",
    "\n",
    "`Esta es la parte del script que orquesta todo el proceso.`\n",
    "\n",
    "**Configuración:** Se definen las variables SOURCE_DIR y OUTPUT_DIR para especificar las carpetas de origen y destino. Esto hace que el código sea más fácil de modificar.\n",
    "\n",
    "**Crear Directorio de Salida:** if not os.path.exists(OUTPUT_DIR):\n",
    "\n",
    "* `os.makedirs(OUTPUT_DIR) `comprueba si la carpeta de destino (thumbnails) existe. Si no existe, la crea. Esto evita que el script falle si la carpeta no ha sido creada manualmente.\n",
    "\n",
    "* `Encontrar las Imágenes:` glob.glob(f'{SOURCE_DIR}/*[.jpg|.png]') busca en la carpeta source_images todos los archivos que terminen en .jpg o .png y devuelve una lista con sus rutas.\n",
    "\n",
    "* `Aplicar el Pipeline: `El bucle for itera sobre la lista de rutas de archivos de imagen.\n",
    "* En cada iteración, llama a la función process_image_pipeline pasándole la ruta del archivo actual y la carpeta de destino.\n",
    "* Esto aplica la secuencia de procesamiento a cada imagen encontrada.\n"
   ],
   "id": "948a61dda38429f6"
  },
  {
   "metadata": {},
   "cell_type": "markdown",
   "source": [
    "# Colecciones + funciones de orden superior\n",
    "\n",
    "Pasar funciones como argumentos (map, filter, reduce)."
   ],
   "id": "43343598548cf20e"
  },
  {
   "metadata": {
    "ExecuteTime": {
     "end_time": "2025-08-29T17:18:55.272436Z",
     "start_time": "2025-08-29T17:18:55.259083Z"
    }
   },
   "cell_type": "code",
   "source": [
    "from functools import reduce\n",
    "\n",
    "numeros = [1, 2, 3, 4, 5]\n",
    "\n",
    "# map → aplicar función a cada elemento\n",
    "cuadrados = list(map(lambda x: x**2, numeros))\n",
    "print(\"Cuadrados:\", cuadrados)  # [1, 4, 9, 16, 25]\n",
    "\n",
    "# filter → filtrar según condición\n",
    "pares = list(filter(lambda x: x % 2 == 0, numeros))\n",
    "print(\"Pares:\", pares)  # [2, 4]\n",
    "\n",
    "# reduce → acumular un valor\n",
    "suma_total = reduce(lambda acc, x: acc + x, numeros, 0)\n",
    "print(\"Suma:\", suma_total)  # 15\n"
   ],
   "id": "e81d4e09fbae23dc",
   "outputs": [
    {
     "name": "stdout",
     "output_type": "stream",
     "text": [
      "Cuadrados: [1, 4, 9, 16, 25]\n",
      "Pares: [2, 4]\n",
      "Suma: 15\n"
     ]
    }
   ],
   "execution_count": 10
  },
  {
   "metadata": {},
   "cell_type": "markdown",
   "source": [
    "# Evaluación perezosa\n",
    "\n",
    "Generadores que procesan datos sin cargar todo en memoria."
   ],
   "id": "73638fcfc01299b"
  },
  {
   "metadata": {
    "ExecuteTime": {
     "end_time": "2025-08-29T17:19:28.727877Z",
     "start_time": "2025-08-29T17:19:28.717573Z"
    }
   },
   "cell_type": "code",
   "source": [
    "def numeros_grandes(n):\n",
    "    for i in range(n):\n",
    "        yield i * 2  # se calcula solo cuando se pide\n",
    "\n",
    "gen = numeros_grandes(5)\n",
    "\n",
    "print(next(gen))  # 0\n",
    "print(next(gen))  # 2\n",
    "print(list(gen))  # [4, 6, 8]"
   ],
   "id": "1086885c364ae82b",
   "outputs": [
    {
     "name": "stdout",
     "output_type": "stream",
     "text": [
      "0\n",
      "2\n",
      "[4, 6, 8]\n"
     ]
    }
   ],
   "execution_count": 11
  },
  {
   "metadata": {},
   "cell_type": "markdown",
   "source": [
    "`Útil para datasets grandes: no guardamos todo en memoria.\n",
    "`"
   ],
   "id": "2f608269516689d5"
  },
  {
   "metadata": {},
   "cell_type": "markdown",
   "source": [
    "# TÉCNICAS SENIOR\n",
    "\n",
    "1. Functional Core, Imperative Shell (Núcleo Funcional, Caparazón Imperativo)\n",
    "Esta es una arquitectura de software que separa la lógica de negocio pura de las interacciones con el mundo exterior (efectos secundarios).\n",
    "\n",
    "\n",
    "`Núcleo Funcional (Functional Core):`\n",
    "* Contiene toda la lógica de negocio compleja.\n",
    "* Se compone de funciones puras que no realizan I/O (lectura/escritura de archivos, llamadas a APIs, logging).\n",
    "* Solo reciben datos y devuelven un resultado.\n",
    "* Esto hace que el núcleo sea predecible, fácil de probar unitariamente y reutilizable.\n",
    "\n",
    "`Caparazón Imperativo (Imperative Shell):` Es la capa exterior que interactúa con el mundo. Se encarga de las tareas \"sucias\":\n",
    "* leer archivos, obtener datos de una base de datos, imprimir en la consola, registrar logs, etc.\n",
    "* El caparazón llama a las funciones del núcleo, les proporciona los datos que necesitan y luego toma los resultados para realizar más acciones con efectos secundarios."
   ],
   "id": "8dd01498b67bcca2"
  },
  {
   "metadata": {},
   "cell_type": "markdown",
   "source": [
    "**Ejemplo**\n",
    "\n",
    "1. Imagina que necesitamos procesar un archivo de ventas, calcular un resumen y guardar un informe."
   ],
   "id": "3313ffaca6e23c8c"
  },
  {
   "metadata": {
    "ExecuteTime": {
     "end_time": "2025-08-29T17:27:44.853704Z",
     "start_time": "2025-08-29T17:27:44.839585Z"
    }
   },
   "cell_type": "code",
   "source": [
    "# --- Núcleo Funcional (Lógica Pura y Comprobable) ---\n",
    "# Esta función no sabe de archivos, solo procesa datos.\n",
    "def generar_resumen_ventas(ventas: list[dict]) -> dict:\n",
    "    \"\"\"\n",
    "    Toma una lista de ventas y calcula el total y el número de transacciones.\n",
    "    Es una función pura.\n",
    "    \"\"\"\n",
    "    if not ventas:\n",
    "        return {\"total_ventas\": 0, \"num_transacciones\": 0}\n",
    "\n",
    "    total = sum(item['monto'] for item in ventas)\n",
    "    transacciones = len(ventas)\n",
    "\n",
    "    return {\"total_ventas\": total, \"num_transacciones\": transacciones}\n",
    "\n",
    "\n",
    "# --- Caparazón Imperativo (Maneja I/O y Efectos Secundarios) ---\n",
    "def procesar_informe_ventas(archivo_entrada: str, archivo_salida: str):\n",
    "    \"\"\"\n",
    "    Orquesta el proceso: lee datos, llama al núcleo y guarda el resultado.\n",
    "    \"\"\"\n",
    "    try:\n",
    "        # 1. Leer datos (efecto secundario: I/O)\n",
    "        print(f\"Leyendo datos de '{archivo_entrada}'...\")\n",
    "        # En un caso real, aquí leerías un JSON o CSV\n",
    "        datos_crudos = [\n",
    "            {\"id\": 1, \"monto\": 100},\n",
    "            {\"id\": 2, \"monto\": 150},\n",
    "            {\"id\": 3, \"monto\": 75}\n",
    "        ]\n",
    "\n",
    "        # 2. Llamar al núcleo funcional con los datos limpios\n",
    "        resumen = generar_resumen_ventas(datos_crudos)\n",
    "\n",
    "        # 3. Escribir el resultado (efecto secundario: I/O)\n",
    "        print(f\"Guardando resumen en '{archivo_salida}'...\")\n",
    "        with open(archivo_salida, 'w') as f:\n",
    "            f.write(f\"Total de Ventas: {resumen['total_ventas']}\\n\")\n",
    "            f.write(f\"Número de Transacciones: {resumen['num_transacciones']}\\n\")\n",
    "\n",
    "        print(\"Proceso completado.\")\n",
    "\n",
    "    except Exception as e:\n",
    "        # 4. Manejar errores (efecto secundario: logging)\n",
    "        print(f\"Error durante el proceso: {e}\")\n",
    "\n",
    "# --- Ejecución ---\n",
    "procesar_informe_ventas(\"ventas.json\", \"resumen.txt\")"
   ],
   "id": "84f36ad7ea19e0b6",
   "outputs": [
    {
     "name": "stdout",
     "output_type": "stream",
     "text": [
      "Leyendo datos de 'ventas.json'...\n",
      "Guardando resumen en 'resumen.txt'...\n",
      "Proceso completado.\n"
     ]
    }
   ],
   "execution_count": 13
  },
  {
   "metadata": {},
   "cell_type": "markdown",
   "source": [
    "# 2. Pipelines con Generadores para Datasets Grandes\n",
    "\n",
    "* Esta técnica combina los pipelines con generadores (yield) para procesar grandes volúmenes de datos con un uso de memoria mínimo.\n",
    "* Los yield son una forma de devolver datos de forma incrementa.\n",
    "* En lugar de cargar todo el archivo en memoria, los datos fluyen a través del pipeline elemento por elemento. Esto se conoce como evaluación perezosa (lazy evaluation).\n",
    "\n",
    "**Ejemplo**\n",
    "\n",
    "1. Vamos a procesar un archivo de logs de gran tamaño para encontrar y extraer información de las líneas de error, sin cargar nunca el archivo completo en la memoria."
   ],
   "id": "865e123f39d2036"
  },
  {
   "metadata": {
    "ExecuteTime": {
     "end_time": "2025-08-29T17:30:04.606532Z",
     "start_time": "2025-08-29T17:30:04.562565Z"
    }
   },
   "cell_type": "code",
   "source": [
    "def leer_lineas_log(nombre_archivo: str):\n",
    "    \"\"\"Generador que lee un archivo línea por línea (perezosamente).\"\"\"\n",
    "    print(\"-> Abriendo archivo...\")\n",
    "    with open(nombre_archivo, 'r') as f:\n",
    "        for linea in f:\n",
    "            yield linea.strip()\n",
    "\n",
    "def filtrar_lineas_error(lineas):\n",
    "    \"\"\"Generador que solo deja pasar las líneas que contienen 'ERROR'.\"\"\"\n",
    "    for linea in lineas:\n",
    "        if 'ERROR' in linea:\n",
    "            yield linea\n",
    "\n",
    "def extraer_info_error(lineas_error):\n",
    "    \"\"\"Generador que parsea una línea de error y devuelve un diccionario.\"\"\"\n",
    "    for linea in lineas_error:\n",
    "        partes = linea.split(':', 2)\n",
    "        if len(partes) == 3:\n",
    "            yield {\n",
    "                \"timestamp\": partes[0],\n",
    "                \"tipo\": partes[1].strip(),\n",
    "                \"mensaje\": partes[2].strip()\n",
    "            }\n",
    "\n",
    "# --- Creación y uso del Pipeline ---\n",
    "\n",
    "# 1. Crear un archivo de log de ejemplo\n",
    "log_data = \"\"\"\n",
    "2023-10-27T10:00:00: INFO: Servicio iniciado\n",
    "2023-10-27T10:01:15: ERROR: Fallo en la conexión a la base de datos\n",
    "2023-10-27T10:02:00: INFO: Usuario 'admin' ha iniciado sesión\n",
    "2023-10-27T10:03:30: WARNING: Uso de CPU al 85%\n",
    "2023-10-27T10:04:00: ERROR: Timeout en la petición a la API externa\n",
    "\"\"\"\n",
    "with open(\"app.log\", \"w\") as f:\n",
    "    f.write(log_data.strip())\n",
    "\n",
    "# 2. Construir el pipeline de generadores\n",
    "# Ninguna operación se ejecuta todavía, solo se conectan los generadores.\n",
    "pipeline = extraer_info_error(\n",
    "    filtrar_lineas_error(\n",
    "        leer_lineas_log(\"app.log\")\n",
    "    )\n",
    ")\n",
    "\n",
    "# 3. Consumir el pipeline\n",
    "# Ahora es cuando el archivo se lee y los datos fluyen a través del pipeline.\n",
    "print(\"Consumiendo el pipeline de errores:\")\n",
    "for error_info in pipeline:\n",
    "    print(error_info)\n",
    "\n",
    "# Salida:\n",
    "# Consumiendo el pipeline de errores:\n",
    "# -> Abriendo archivo...\n",
    "# {'timestamp': '2023-10-27T10:01:15', 'tipo': 'ERROR', 'mensaje': 'Fallo en la conexión a la base de datos'}\n",
    "# {'timestamp': '2023-10-27T10:04:00', 'tipo': 'ERROR', 'mensaje': 'Timeout en la petición a la API externa'}"
   ],
   "id": "5ff80dc76ef32ca8",
   "outputs": [
    {
     "name": "stdout",
     "output_type": "stream",
     "text": [
      "Consumiendo el pipeline de errores:\n",
      "-> Abriendo archivo...\n",
      "{'timestamp': '2023-10-27T10', 'tipo': '01', 'mensaje': '15: ERROR: Fallo en la conexión a la base de datos'}\n",
      "{'timestamp': '2023-10-27T10', 'tipo': '04', 'mensaje': '00: ERROR: Timeout en la petición a la API externa'}\n"
     ]
    }
   ],
   "execution_count": 14
  },
  {
   "metadata": {},
   "cell_type": "markdown",
   "source": [
    "# 3. Idempotencia de Transformaciones de Limpieza\n",
    "\n",
    "* Una operación es idempotente si aplicarla varias veces produce el mismo resultado que aplicarla una sola vez.\n",
    "* En la limpieza de datos, esto es crucial para asegurar que si un pipeline se ejecuta accidentalmente más de una vez sobre los mismos datos, el resultado final no se corrompa.\n",
    "\n",
    "\n",
    "**Ejemplo**\n",
    "\n",
    "1. Imagina que tenemos una función para limpiar nombres de productos."
   ],
   "id": "99c8d6a5222a2ffa"
  },
  {
   "metadata": {
    "ExecuteTime": {
     "end_time": "2025-08-29T17:31:24.102954Z",
     "start_time": "2025-08-29T17:31:24.091264Z"
    }
   },
   "cell_type": "code",
   "source": [
    "# --- Transformación NO Idempotente (Incorrecta) ---\n",
    "def agregar_prefijo_producto_malo(nombre: str) -> str:\n",
    "    \"\"\"Agrega un prefijo. Si se ejecuta dos veces, el prefijo se duplica.\"\"\"\n",
    "    return f\"PROD-{nombre}\"\n",
    "\n",
    "# --- Transformación Idempotente (Correcta) ---\n",
    "def limpiar_nombre_producto(nombre: str) -> str:\n",
    "    \"\"\"\n",
    "    Limpia un nombre de producto de forma idempotente:\n",
    "    1. Convierte a mayúsculas.\n",
    "    2. Elimina espacios en blanco al inicio y al final.\n",
    "    3. Elimina el prefijo 'PROD-' si ya existe antes de añadirlo.\n",
    "    \"\"\"\n",
    "    # 1. Normalizar (mayúsculas y espacios)\n",
    "    nombre_limpio = nombre.upper().strip()\n",
    "\n",
    "    # 2. Asegurar que el prefijo no se duplique\n",
    "    if nombre_limpio.startswith(\"PROD-\"):\n",
    "        # Si ya lo tiene, no hacemos nada para evitar 'PROD-PROD-...'\n",
    "        return nombre_limpio\n",
    "    else:\n",
    "        # Si no lo tiene, lo agregamos\n",
    "        return f\"PROD-{nombre_limpio}\"\n",
    "\n",
    "\n",
    "# --- Demostración ---\n",
    "\n",
    "# 1. Con la función mala (NO idempotente)\n",
    "nombre1 = \"  Laptop  \"\n",
    "print(f\"Original: '{nombre1}'\")\n",
    "nombre1 = agregar_prefijo_producto_malo(nombre1)\n",
    "print(f\"Después de 1ª llamada: '{nombre1}'\") # 'PROD-  Laptop  '\n",
    "nombre1 = agregar_prefijo_producto_malo(nombre1)\n",
    "print(f\"Después de 2ª llamada: '{nombre1}'\") # 'PROD-PROD-  Laptop  ' (¡Incorrecto!)\n",
    "print(\"-\" * 20)\n",
    "\n",
    "# 2. Con la función buena (Idempotente)\n",
    "nombre2 = \"  Laptop  \"\n",
    "print(f\"Original: '{nombre2}'\")\n",
    "nombre2 = limpiar_nombre_producto(nombre2)\n",
    "print(f\"Después de 1ª llamada: '{nombre2}'\") # 'PROD-LAPTOP'\n",
    "nombre2 = limpiar_nombre_producto(nombre2)\n",
    "print(f\"Después de 2ª llamada: '{nombre2}'\") # 'PROD-LAPTOP' (Correcto, el resultado no cambia)"
   ],
   "id": "eaeb7bbd3d6f9a58",
   "outputs": [
    {
     "name": "stdout",
     "output_type": "stream",
     "text": [
      "Original: '  Laptop  '\n",
      "Después de 1ª llamada: 'PROD-  Laptop  '\n",
      "Después de 2ª llamada: 'PROD-PROD-  Laptop  '\n",
      "--------------------\n",
      "Original: '  Laptop  '\n",
      "Después de 1ª llamada: 'PROD-LAPTOP'\n",
      "Después de 2ª llamada: 'PROD-LAPTOP'\n"
     ]
    }
   ],
   "execution_count": 15
  },
  {
   "metadata": {},
   "cell_type": "markdown",
   "source": [
    "# 4 Memoización y Caché\n",
    "La memoización es una técnica para almacenar los resultados de funciones costosas y reutilizarlos cuando se llaman con los mismos argumentos."
   ],
   "id": "ea00441f4783ec37"
  },
  {
   "metadata": {
    "ExecuteTime": {
     "end_time": "2025-08-29T18:18:42.659354Z",
     "start_time": "2025-08-29T18:18:42.651993Z"
    }
   },
   "cell_type": "code",
   "source": [
    "from functools import lru_cache\n",
    "\n",
    "@lru_cache(maxsize=128)  # Almacena hasta 128 resultados\n",
    "def fibonacci(n):\n",
    "    if n <= 1:\n",
    "        return n\n",
    "    return fibonacci(n - 1) + fibonacci(n - 2)\n",
    "\n",
    "print(fibonacci(50))  # Calcula rápidamente gracias al caché"
   ],
   "id": "f817196abbf1249e",
   "outputs": [
    {
     "name": "stdout",
     "output_type": "stream",
     "text": [
      "12586269025\n"
     ]
    }
   ],
   "execution_count": 16
  },
  {
   "metadata": {},
   "cell_type": "markdown",
   "source": [
    "5 # Decoradores Personalizados\n",
    "Los decoradores permiten modificar el comportamiento de funciones o métodos de manera reutilizable."
   ],
   "id": "86b220d219e003f1"
  },
  {
   "metadata": {
    "ExecuteTime": {
     "end_time": "2025-08-29T18:19:52.360342Z",
     "start_time": "2025-08-29T18:19:52.346491Z"
    }
   },
   "cell_type": "code",
   "source": [
    "def logger(func):\n",
    "    def wrapper(*args, **kwargs):\n",
    "        print(f\"Llamando a {func.__name__} con {args} y {kwargs}\")\n",
    "        result = func(*args, **kwargs)\n",
    "        print(f\"{func.__name__} devolvió {result}\")\n",
    "        return result\n",
    "    return wrapper\n",
    "\n",
    "@logger\n",
    "def suma(a, b):\n",
    "    return a + b\n",
    "\n",
    "suma(3, 5)"
   ],
   "id": "60969022682acf4f",
   "outputs": [
    {
     "name": "stdout",
     "output_type": "stream",
     "text": [
      "Llamando a suma con (3, 5) y {}\n",
      "suma devolvió 8\n"
     ]
    },
    {
     "data": {
      "text/plain": [
       "8"
      ]
     },
     "execution_count": 18,
     "metadata": {},
     "output_type": "execute_result"
    }
   ],
   "execution_count": 18
  },
  {
   "metadata": {},
   "cell_type": "markdown",
   "source": [
    "# 6 Programación Orientada a Aspectos (AOP)\n",
    "Separa las preocupaciones transversales (como logging o validación) del código principal."
   ],
   "id": "144c1fe34f827c7c"
  },
  {
   "metadata": {
    "ExecuteTime": {
     "end_time": "2025-08-29T18:20:15.569166Z",
     "start_time": "2025-08-29T18:20:15.554877Z"
    }
   },
   "cell_type": "code",
   "source": [
    "class Aspecto:\n",
    "    def __init__(self, func):\n",
    "        self.func = func\n",
    "\n",
    "    def __call__(self, *args, **kwargs):\n",
    "        print(f\"Antes de ejecutar {self.func.__name__}\")\n",
    "        resultado = self.func(*args, **kwargs)\n",
    "        print(f\"Después de ejecutar {self.func.__name__}\")\n",
    "        return resultado\n",
    "\n",
    "@Aspecto\n",
    "def procesar_datos(data):\n",
    "    print(f\"Procesando {data}\")\n",
    "\n",
    "procesar_datos(\"datos importantes\")"
   ],
   "id": "d4147dc555f6412e",
   "outputs": [
    {
     "name": "stdout",
     "output_type": "stream",
     "text": [
      "Antes de ejecutar procesar_datos\n",
      "Procesando datos importantes\n",
      "Después de ejecutar procesar_datos\n"
     ]
    }
   ],
   "execution_count": 19
  },
  {
   "metadata": {},
   "cell_type": "markdown",
   "source": [
    "# 7 Inyección de Dependencias\n",
    "Permite desacoplar componentes al pasar dependencias como argumentos."
   ],
   "id": "67f9f7212dd8849e"
  },
  {
   "metadata": {
    "ExecuteTime": {
     "end_time": "2025-08-29T18:21:04.475973Z",
     "start_time": "2025-08-29T18:21:04.462415Z"
    }
   },
   "cell_type": "code",
   "source": [
    "class Servicio:\n",
    "    def ejecutar(self):\n",
    "        print(\"Servicio ejecutado\")\n",
    "\n",
    "class Cliente:\n",
    "    def __init__(self, servicio):\n",
    "        self.servicio = servicio\n",
    "\n",
    "    def realizar_tarea(self):\n",
    "        self.servicio.ejecutar()\n",
    "\n",
    "servicio = Servicio()\n",
    "cliente = Cliente(servicio)\n",
    "cliente.realizar_tarea()"
   ],
   "id": "bd3224e31d1f2766",
   "outputs": [
    {
     "name": "stdout",
     "output_type": "stream",
     "text": [
      "Servicio ejecutado\n"
     ]
    }
   ],
   "execution_count": 21
  },
  {
   "metadata": {},
   "cell_type": "markdown",
   "source": [
    "# 8 Metaprogramación con type\n",
    "Crea clases dinámicamente en tiempo de ejecución."
   ],
   "id": "27c0c7d4d94298cf"
  },
  {
   "metadata": {
    "ExecuteTime": {
     "end_time": "2025-08-29T18:21:43.553156Z",
     "start_time": "2025-08-29T18:21:43.547425Z"
    }
   },
   "cell_type": "code",
   "source": [
    "def crear_clase(nombre, atributos):\n",
    "    return type(nombre, (object,), atributos)\n",
    "\n",
    "Persona = crear_clase(\"Persona\", {\"nombre\": \"Carlos\", \"edad\": 30})\n",
    "p = Persona()\n",
    "print(p.nombre, p.edad)"
   ],
   "id": "ade823ca56d7de47",
   "outputs": [
    {
     "name": "stdout",
     "output_type": "stream",
     "text": [
      "Carlos 30\n"
     ]
    }
   ],
   "execution_count": 22
  },
  {
   "metadata": {},
   "cell_type": "markdown",
   "source": [
    "# 9 Procesamiento Paralelo\n",
    "\n",
    "Usa múltiples núcleos para acelerar tareas."
   ],
   "id": "1764db814e4dafbc"
  },
  {
   "metadata": {
    "jupyter": {
     "is_executing": true
    },
    "ExecuteTime": {
     "start_time": "2025-08-29T18:22:34.285353Z"
    }
   },
   "cell_type": "code",
   "source": [
    "from multiprocessing import Pool\n",
    "\n",
    "def cuadrado(n):\n",
    "    return n * n\n",
    "\n",
    "with Pool(4) as p:\n",
    "    resultados = p.map(cuadrado, [1, 2, 3, 4, 5])\n",
    "    print(resultados)"
   ],
   "id": "6200d15b983a49e",
   "outputs": [],
   "execution_count": null
  },
  {
   "metadata": {},
   "cell_type": "markdown",
   "source": [
    "# 10 Programación Reactiva\n",
    "Maneja flujos de datos asíncronos."
   ],
   "id": "e65ee5acc402c9e0"
  },
  {
   "metadata": {},
   "cell_type": "code",
   "outputs": [],
   "execution_count": null,
   "source": [
    "from rx import from_iterable\n",
    "\n",
    "numeros = from_iterable([1, 2, 3, 4, 5])\n",
    "numeros.subscribe(lambda x: print(f\"Recibido: {x}\"))"
   ],
   "id": "c078c2f18835154c"
  },
  {
   "metadata": {},
   "cell_type": "markdown",
   "source": [
    "# Limpieza y validación de datos\n",
    "\n",
    "**Tareas típicas**\n",
    "\n",
    "1. Normalizar texto: strip, `casefold, lower, Unicode NFKC (unicodedata.normalize).`\n",
    "\n",
    "2. P`arsear números/fechas: int, float, datetime.strptime.`\n",
    "\n",
    "3. Manejar valores `vacíos/None`, eliminar duplicados (set, dict.fromkeys).\n",
    "\n",
    "4. Validar esquemas: tipos, rangos, obligatoriedad.\n",
    "\n",
    "**Técnicas senior**\n",
    "\n",
    "* Pipelines inmutables (no mutar entrada):\n",
    "\n",
    "* Validación declarativa (p. ej., dataclasses + validadores o pydantic si está permitido).\n",
    "\n",
    "* Estrategia EAFP (Easier to Ask Forgiveness than Permission): intenta parsear, captura ValueError."
   ],
   "id": "46c1ca84688fb2c6"
  },
  {
   "metadata": {},
   "cell_type": "code",
   "outputs": [],
   "execution_count": null,
   "source": [
    "from typing import Iterable\n",
    "\n",
    "def pipeline(datos: Iterable[str]):\n",
    "    step1 = map(lambda s: s.strip(), datos)\n",
    "    step2 = filter(None, step1) # quita vacíos\n",
    "    step3 = map(lambda s: s.casefold(), step2)\n",
    "    return step3 # generador; consumir más tarde"
   ],
   "id": "ed8937eb81023f4"
  },
  {
   "metadata": {},
   "cell_type": "markdown",
   "source": [
    "# Separación de capas (arquitectura mínima limpia)\n",
    "\n",
    "1. Dominio (negocio): funciones puras (reglas de stock, duplicados, etc.).\n",
    "\n",
    "2. Infraestructura: lectura/escritura (JSON, archivos), logging.\n",
    "\n",
    "3. Presentación: CLI/UI que imprime o muestra datos.\n",
    "\n",
    "**Técnicas senior**\n",
    "\n",
    "Interfaces simples (protocolos): funciones reciben/retornan estructuras planas (dict, list) o modelos tipados.\n",
    "\n",
    "Inyección de dependencias: pasar lectores/escritores como argumentos para testear sin IO real.\n",
    "\n",
    "Logs y errores: logging con niveles; excepciones específicas (p. ej., StockInsuficiente)."
   ],
   "id": "462a3835fdbb3095"
  },
  {
   "metadata": {},
   "cell_type": "markdown",
   "source": [
    "# Preparación para JSON\n",
    "\n",
    "1. Serializar: json.dump/loads, ensure_ascii=False para acentos.\n",
    "\n",
    "2. Mantener contratos de datos (versionar esquema, claves estables).\n",
    "\n",
    "3. Convertir set ↔ list al serializar."
   ],
   "id": "5ce2b2770b25998e"
  },
  {
   "metadata": {},
   "cell_type": "code",
   "outputs": [],
   "execution_count": null,
   "source": [
    "import json\n",
    "\n",
    "payload = {\"productos\": [\"manzana\", \"pera\"], \"tags\": list({\"fruta\", \"fresco\"})}\n",
    "\n",
    "with open(\"inv.json\", \"w\", encoding=\"utf-8\") as f:\n",
    "    json.dump(payload, f, ensure_ascii=False, indent=2)"
   ],
   "id": "274ee1f701b49e9"
  },
  {
   "metadata": {},
   "cell_type": "markdown",
   "source": [
    "# Ejemplo básico (paso a paso)\n",
    "\n",
    "Problema: Consolidar productos de dos listas, limpiar duplicados, validar stock mínimo y preparar reporte.\n",
    "\n",
    "**1. Datos**"
   ],
   "id": "f3be9433c0f0b97d"
  },
  {
   "metadata": {},
   "cell_type": "code",
   "outputs": [],
   "execution_count": null,
   "source": [
    "s1 = [\" manzana\", \"Pera\", \"manzana \", \"Uva\"]\n",
    "s2 = [\"Kiwi\", \"Pera\", \"Mango \"]\n",
    "stock = {\"manzana\": 5, \"pera\": 2, \"uva\": 7, \"kiwi\": 0, \"mango\": 1}\n",
    "minimos = {\"manzana\": 3, \"pera\": 3, \"uva\": 2, \"kiwi\": 2, \"mango\": 2}"
   ],
   "id": "63b2894ae42a11dc"
  },
  {
   "metadata": {},
   "cell_type": "markdown",
   "source": "**1.2 Limpieza con map/filter**",
   "id": "90e222474488fa0e"
  },
  {
   "metadata": {},
   "cell_type": "code",
   "outputs": [],
   "execution_count": null,
   "source": [
    "norm = lambda s: \" \".join(s.strip().split()).lower()\n",
    "cat_1 = list(map(norm, s1))\n",
    "cat_2 = list(map(norm, s2))"
   ],
   "id": "8d1a62bf2239b5db"
  },
  {
   "metadata": {},
   "cell_type": "markdown",
   "source": "**1.3 Consolidación y duplicados**",
   "id": "c1429ce9fd37be0d"
  },
  {
   "metadata": {},
   "cell_type": "code",
   "outputs": [],
   "execution_count": null,
   "source": "consolidado = sorted(set(cat_1) | set(cat_2))",
   "id": "5c50722aa9008308"
  },
  {
   "metadata": {},
   "cell_type": "markdown",
   "source": "**1.4 Validación de stock con map y filter**",
   "id": "eb06b80f41dc87d7"
  },
  {
   "metadata": {},
   "cell_type": "code",
   "outputs": [],
   "execution_count": null,
   "source": [
    "faltantes = list(filter(lambda p: stock.get(p, 0) == 0, consolidado))\n",
    "stock_bajo = list(filter(lambda p: stock.get(p, 0) < minimos.get(p, 0), consolidado))"
   ],
   "id": "4a385fbbd45d7bc1"
  },
  {
   "metadata": {},
   "cell_type": "markdown",
   "source": "**1.5 Reducción: total de unidades disponibles**",
   "id": "b695decdf1b820f6"
  },
  {
   "metadata": {},
   "cell_type": "code",
   "outputs": [],
   "execution_count": null,
   "source": [
    "from functools import reduce\n",
    "\n",
    "\n",
    "total_unidades = reduce(lambda acc, p: acc + stock.get(p, 0), consolidado, 0)\n",
    "reporte = {\"catalogo\": consolidado, \"faltantes\": faltantes, \"stock_bajo\": stock_bajo, \"total\": total_unidades}"
   ],
   "id": "26fba979623cf5b3"
  },
  {
   "metadata": {},
   "cell_type": "markdown",
   "source": [
    "**Conceptos aplicados:**\n",
    "\n",
    "* normalización, set para unicidad, map/filter/reduce, composición simple."
   ],
   "id": "da3009ccd362bb94"
  },
  {
   "metadata": {},
   "cell_type": "markdown",
   "source": [
    "# Ejemplo senior (arquitectura limpia + pipeline funcional)\n",
    "\n",
    "**Objetivo:** Mini sistema de inventario con reglas de negocio puras, validación y reporte; separación de capas y técnicas pro.\n",
    "\n",
    "**1. Modelos de dominio (tipados) y validadores**"
   ],
   "id": "110655255d8304fa"
  },
  {
   "metadata": {
    "ExecuteTime": {
     "end_time": "2025-08-29T20:09:49.295909Z",
     "start_time": "2025-08-29T20:09:49.257856Z"
    }
   },
   "cell_type": "code",
   "source": [
    "from dataclasses import dataclass\n",
    "from typing import Iterable, Callable, Dict, List, Tuple\n",
    "from functools import reduce\n",
    "from collections import defaultdict\n",
    "import unicodedata\n",
    "\n",
    "# --- Utilidades de normalización ---\n",
    "def nfkc(s: str) -> str:\n",
    "    return unicodedata.normalize(\"NFKC\", s)\n",
    "\n",
    "norm_text: Callable[[str], str] = lambda s: \" \".join(nfkc(s).strip().split()).casefold()\n",
    "\n",
    "# --- Modelos ---\n",
    "@dataclass(frozen=True)\n",
    "class Producto:\n",
    "    sku: str\n",
    "    nombre: str\n",
    "\n",
    "@dataclass\n",
    "class Stock:\n",
    "    unidades: int\n",
    "    minimo: int\n",
    "\n",
    "# --- Tipos ---\n",
    "Catalogo = Dict[str, Producto] # sku -> Producto\n",
    "Existencias = Dict[str, Stock] # sku -> Stock\n",
    "NombreIndex = Dict[str, List[str]] # nombre_norm -> [skus]"
   ],
   "id": "4cabc0646404265e",
   "outputs": [],
   "execution_count": 4
  },
  {
   "metadata": {},
   "cell_type": "markdown",
   "source": "**2. Capa de negocio: reglas puras**",
   "id": "9b028a26d59d2627"
  },
  {
   "metadata": {
    "ExecuteTime": {
     "end_time": "2025-08-29T20:12:08.638243Z",
     "start_time": "2025-08-29T20:12:08.606481Z"
    }
   },
   "cell_type": "code",
   "source": [
    "# Construir catálogo consolidado desde múltiples fuentes de (sku, nombre)\n",
    "\n",
    "def construir_catalogo(*fuentes: Iterable[Tuple[str, str]]) -> Catalogo:\n",
    "    def step(fuente: Iterable[Tuple[str, str]]) -> Catalogo:\n",
    "        return {sku: Producto(sku=sku, nombre=norm_text(nombre)) for sku, nombre in fuente}\n",
    "# Reducimos catálogos parciales en uno solo (prioridad última fuente)\n",
    "    return reduce(lambda acc, cat: (acc | cat), map(step, fuentes), {})\n",
    "\n",
    "\n",
    "# Índice por nombre normalizado → skus (muchos a uno)\n",
    "def indexar_por_nombre(cat: Catalogo) -> NombreIndex:\n",
    "    idx: NombreIndex = defaultdict(list)\n",
    "    for sku, prod in cat.items():\n",
    "        idx[prod.nombre].append(sku)\n",
    "        return idx\n",
    "\n",
    "# Detectar duplicados por nombre (múltiples SKUs con el mismo nombre)\n",
    "def duplicados_por_nombre(idx: NombreIndex) -> Dict[str, List[str]]:\n",
    "    return {nombre: skus for nombre, skus in idx.items() if len(skus) > 1}\n",
    "\n",
    "# Productos con stock bajo o faltante\n",
    "def evaluar_stock(cat: Catalogo, ex: Existencias) -> Tuple[List[str], List[str]]:\n",
    "    skus = cat.keys()\n",
    "    faltantes = [sku for sku in skus if ex.get(sku, Stock(0, 0)).unidades == 0]\n",
    "    bajos = [sku for sku in skus if ex.get(sku, Stock(0, 0)).unidades < ex.get(sku, Stock(0, 0)).minimo]\n",
    "    return faltantes, bajos\n",
    "\n",
    "# Plan de reposición mínimo (llevar a mínimo + buffer)\n",
    "def plan_reposicion(ex: Existencias, buffer: int = 2) -> Dict[str, int]:\n",
    "    def falta(sku_stock: Tuple[str, Stock]) -> Tuple[str, int]:\n",
    "        sku, st = sku_stock\n",
    "        objetivo = max(st.minimo + buffer, st.minimo)\n",
    "        return (sku, max(0, objetivo - st.unidades))\n",
    "\n",
    "        pares = map(falta, ex.items())\n",
    "        return {sku: qty for sku, qty in pares if qty > 0}"
   ],
   "id": "bd308c8be4fa0c81",
   "outputs": [],
   "execution_count": 5
  },
  {
   "metadata": {},
   "cell_type": "markdown",
   "source": "**3. Capa de infraestructura (IO) — simulada**",
   "id": "f029e1d9fd0123f9"
  },
  {
   "metadata": {
    "ExecuteTime": {
     "end_time": "2025-08-29T20:12:58.045463Z",
     "start_time": "2025-08-29T20:12:58.027595Z"
    }
   },
   "cell_type": "code",
   "source": [
    "# Estas funciones podrían leer/escribir JSON en producción.\n",
    "def cargar_fuentes() -> Tuple[list[tuple[str, str]], list[tuple[str, str]]]:\n",
    "    fuente_a = [(\"A1\", \"Manzana \"), (\"B2\", \"Pera\"), (\"C3\", \"Uva \")]\n",
    "    fuente_b = [(\"B2\", \" Pera\"), (\"D4\", \"Kiwi\"), (\"E5\", \"Mango\")]\n",
    "    return fuente_a, fuente_b\n",
    "\n",
    "\n",
    "def cargar_existencias() -> Existencias:\n",
    "    return {\n",
    "        \"A1\": Stock(5, 3),\n",
    "        \"B2\": Stock(2, 3),\n",
    "        \"C3\": Stock(7, 2),\n",
    "        \"D4\": Stock(0, 2),\n",
    "        \"E5\": Stock(1, 2),\n",
    "    }"
   ],
   "id": "46c163aee6c124ac",
   "outputs": [],
   "execution_count": 6
  },
  {
   "metadata": {},
   "cell_type": "markdown",
   "source": "**4. Orquestación (presentación)**",
   "id": "b0cdcfe0f130d507"
  },
  {
   "metadata": {
    "ExecuteTime": {
     "end_time": "2025-08-29T20:13:15.009764Z",
     "start_time": "2025-08-29T20:13:14.990002Z"
    }
   },
   "cell_type": "code",
   "source": [
    "if __name__ == \"__main__\":\n",
    "    fuente_a, fuente_b = cargar_fuentes()\n",
    "    cat = construir_catalogo(fuente_a, fuente_b)\n",
    "    idx = indexar_por_nombre(cat)\n",
    "    ex = cargar_existencias()\n",
    "\n",
    "dups = duplicados_por_nombre(idx)\n",
    "faltantes, bajos = evaluar_stock(cat, ex)\n",
    "plan = plan_reposicion(ex, buffer=2)\n",
    "\n",
    "print(\"=== RESUMEN INVENTARIO ===\")\n",
    "print(\"SKUs:\", sorted(cat.keys()))\n",
    "print(\"Duplicados por nombre:\", dups)\n",
    "print(\"Faltantes:\", faltantes)\n",
    "print(\"Stock bajo:\", bajos)\n",
    "print(\"Plan reposición:\", plan)"
   ],
   "id": "bd89279b92f992d8",
   "outputs": [
    {
     "name": "stdout",
     "output_type": "stream",
     "text": [
      "=== RESUMEN INVENTARIO ===\n",
      "SKUs: ['A1', 'B2', 'C3', 'D4', 'E5']\n",
      "Duplicados por nombre: {}\n",
      "Faltantes: ['D4']\n",
      "Stock bajo: ['B2', 'D4', 'E5']\n",
      "Plan reposición: None\n"
     ]
    }
   ],
   "execution_count": 7
  },
  {
   "metadata": {},
   "cell_type": "markdown",
   "source": [
    "Qué aprendemos aquí\n",
    "\n",
    "Pipelines con map/reduce sin mutación de entrada.\n",
    "\n",
    "Índices para consultas O(1) y detección de duplicados por nombre.\n",
    "\n",
    "Reglas de negocio puras (fáciles de testear).\n",
    "\n",
    "Separación clara entre datos (dominio), infraestructura e interfaz."
   ],
   "id": "51b479244f07a7"
  },
  {
   "metadata": {},
   "cell_type": "markdown",
   "source": [
    "# Técnicas senior (checklist)\n",
    "\n",
    "Type hints + dataclasses → APIs claras y predecibles.\n",
    "\n",
    "Funciones pequeñas y pure-first: aislar IO.\n",
    "\n",
    "operator.itemgetter/attrgetter para ordenar/extraer campos.\n",
    "\n",
    "itertools: groupby, chain, islice para flujos grandes.\n",
    "\n",
    "functools.partial para fijar parámetros en pipelines.\n",
    "\n",
    "lru_cache para memoizar cálculos costosos (si son puros).\n",
    "\n",
    "Errores explícitos: crea excepciones de dominio (p. ej., class StockInsuficiente(Exception): ...).\n",
    "\n",
    "Logs con logging y niveles (info, warning, error).\n",
    "\n",
    "Complejidad: prefiere O(n) con una sola pasada y generadores.\n",
    "\n",
    "Testing: tests del core sin tocar disco/red."
   ],
   "id": "6e244061fddb82ee"
  }
 ],
 "metadata": {
  "kernelspec": {
   "display_name": "Python 3",
   "language": "python",
   "name": "python3"
  },
  "language_info": {
   "codemirror_mode": {
    "name": "ipython",
    "version": 2
   },
   "file_extension": ".py",
   "mimetype": "text/x-python",
   "name": "python",
   "nbconvert_exporter": "python",
   "pygments_lexer": "ipython2",
   "version": "2.7.6"
  }
 },
 "nbformat": 4,
 "nbformat_minor": 5
}
