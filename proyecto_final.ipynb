{
 "cells": [
  {
   "metadata": {},
   "cell_type": "markdown",
   "source": [
    "# Mapa del contenido\n",
    "\n",
    "CLASE 1 – Listas y tuplas\n",
    "\n",
    "CLASE 2 – Listas dinámicas y “listas de listas”\n",
    "\n",
    "CLASE 3 – Diccionarios clave‑valor\n",
    "\n",
    "CLASE 4 – Diccionarios complejos (mini‑CRM)\n",
    "\n",
    "CLASE 5 – Sets y estructuras mixtas\n",
    "\n",
    "CLASE 6 – Composición inteligente (modelo por IDs + índices)\n",
    "\n",
    "CLASE 7 – Buenas prácticas y pipeline funcional\n",
    "\n",
    "CLASE 8 – Ensamble final (EventManager) + demo\n",
    "\n",
    "Sugerencia: copia los bloques de código en un archivo eventos_final.py y ejecútalo por secciones."
   ],
   "id": "19c83d8257cb0f2f"
  },
  {
   "metadata": {},
   "cell_type": "markdown",
   "source": "# 1) CLASE 1 – Listas y tuplas (organización secuencial)",
   "id": "b13164256cc2e013"
  },
  {
   "metadata": {},
   "cell_type": "markdown",
   "source": "Escenario: tenemos una agenda sencilla de sesiones para un evento.",
   "id": "d92550b7868ed419"
  },
  {
   "cell_type": "code",
   "id": "initial_id",
   "metadata": {
    "collapsed": true,
    "ExecuteTime": {
     "end_time": "2025-08-30T17:20:26.418569Z",
     "start_time": "2025-08-30T17:20:26.410012Z"
    }
   },
   "source": [
    "# Lista de sesiones (lista de strings)\n",
    "sesiones = [\"Apertura\", \"Charla Python\", \"Coffee Break\", \"Taller IA\", \"Cierre\"]\n",
    "\n",
    "\n",
    "# Acceso y modificación\n",
    "primera = sesiones[0] # \"Apertura\"\n",
    "sesiones[1] = \"Charla de Python\" # modificar elemento\n",
    "\n",
    "\n",
    "# Métodos comunes de lista\n",
    "sesiones.append(\"Networking\") # agregar al final\n",
    "sesiones.insert(2, \"Bienvenida VIP\") # insertar en posición\n",
    "removida = sesiones.pop() # saca y retorna el último (\"Networking\")\n",
    "sesiones.remove(\"Coffee Break\") # elimina por valor (primera coincidencia)\n",
    "sesiones.reverse() # invierte in‑place\n",
    "sesiones.sort() # orden alfabético in‑place\n",
    "\n",
    "\n",
    "# Slicing y comprensión de listas\n",
    "primeras_tres = sesiones[:3]\n",
    "mayus = [s.upper() for s in sesiones]\n",
    "\n",
    "\n",
    "# Tuplas para datos inmutables (ej: franja horaria fija)\n",
    "franja = (\"09:00\", \"10:30\") # tupla (inicio, fin)"
   ],
   "outputs": [],
   "execution_count": 1
  },
  {
   "metadata": {},
   "cell_type": "markdown",
   "source": [
    "# Proyecto final – Gestión de eventos (CLASES 1 → 8)\n",
    "\n",
    "**Objetivo:** integrar todas las estructuras y técnicas del módulo en un mini‑sistema profesional de gestión de eventos.\n",
    "\n",
    "**Incluye:** listas, tuplas, diccionarios, sets, estructuras mixtas, composición inteligente, programación funcional (lambda/map/filter/reduce), validación/limpieza y separación de capas. Todo explicado paso a paso."
   ],
   "id": "95df0ef13cca07d1"
  },
  {
   "metadata": {},
   "cell_type": "markdown",
   "source": [
    "Conceptos: listas mutables; tuplas inmutables; append/insert/remove/sort/reverse/pop; slicing; list comprehensions.\n",
    "\n",
    "Tip IA: pide “refactoriza mi bucle para usar comprensión de listas” o “ordena y quita duplicados en una sola expresión”."
   ],
   "id": "9b4f336803fcf27f"
  },
  {
   "metadata": {},
   "cell_type": "markdown",
   "source": "# 2) CLASE 2 – Listas dinámicas y “listas de listas” (tablas)",
   "id": "701817a13e3341a1"
  },
  {
   "metadata": {
    "ExecuteTime": {
     "end_time": "2025-08-30T17:20:26.452023Z",
     "start_time": "2025-08-30T17:20:26.446103Z"
    }
   },
   "cell_type": "code",
   "source": [
    "ponentes = [] # lista dinámica\n",
    "\n",
    "# Simulación de entradas\n",
    "entradas = [\n",
    "    (\"Ana\", \"Charla de Python\"),\n",
    "    (\"Luis\", \"Taller IA\"),\n",
    "    (\"María\", \"Charla de Python\"),\n",
    "]\n",
    "\n",
    "\n",
    "for nombre, tema in entradas:\n",
    "    ponentes.append([nombre, tema]) # lista de listas: tipo tabla [nombre, tema]\n",
    "\n",
    "\n",
    "# Reporte básico\n",
    "for fila in ponentes:\n",
    "    print(f\"Ponente: {fila[0]} | Tema: {fila[1]}\")"
   ],
   "id": "f1942cd78192096d",
   "outputs": [
    {
     "name": "stdout",
     "output_type": "stream",
     "text": [
      "Ponente: Ana | Tema: Charla de Python\n",
      "Ponente: Luis | Tema: Taller IA\n",
      "Ponente: María | Tema: Charla de Python\n"
     ]
    }
   ],
   "execution_count": 2
  },
  {
   "metadata": {},
   "cell_type": "markdown",
   "source": "Errores típicos: índices fuera de rango, mutaciones involuntarias. La IA puede detectar índices peligrosos o sugerir tuplas si la fila no debe cambiar.",
   "id": "1eb2173986b20df4"
  },
  {
   "metadata": {},
   "cell_type": "markdown",
   "source": [
    "**3) CLASE 3 – Diccionarios (clave‑valor)**\n",
    "\n",
    "Escenario: representamos eventos con más atributos."
   ],
   "id": "e39e6595537b22d5"
  },
  {
   "metadata": {
    "ExecuteTime": {
     "end_time": "2025-08-30T17:20:26.498116Z",
     "start_time": "2025-08-30T17:20:26.489382Z"
    }
   },
   "cell_type": "code",
   "source": [
    "# Un evento como diccionario\n",
    "evento = {\n",
    "\"nombre\": \"Conferencia Python\",\n",
    "\"fecha\": \"2025-09-20\",\n",
    "\"ciudad\": \"Bogotá\",\n",
    "\"capacidad\": 120,\n",
    "}\n",
    "\n",
    "\n",
    "# Acceso seguro y actualización\n",
    "cap = evento.get(\"capacidad\", 0)\n",
    "evento.update({\"capacidad\": cap + 10}) # .update\n",
    "\n",
    "\n",
    "# Recorridos (keys/values/items)\n",
    "for k, v in evento.items():\n",
    "    print(k, \"→\", v)\n",
    "\n",
    "\n",
    "# Diccionario anidado (organizador con contacto)\n",
    "evento[\"organizador\"] = {\"nombre\": \"ComunidadPy\", \"email\": \"info@py.co\"}\n",
    "\n",
    "\n",
    "# Simulación de objeto con estructuras de datos\n",
    "print(evento[\"organizador\"][\"email\"]) # acceso anidado"
   ],
   "id": "7e3eea56b8d2b89",
   "outputs": [
    {
     "name": "stdout",
     "output_type": "stream",
     "text": [
      "nombre → Conferencia Python\n",
      "fecha → 2025-09-20\n",
      "ciudad → Bogotá\n",
      "capacidad → 130\n",
      "info@py.co\n"
     ]
    }
   ],
   "execution_count": 3
  },
  {
   "metadata": {},
   "cell_type": "markdown",
   "source": "Métodos: .get() .update() .keys() .values() .items() .pop(); diccionarios anidados.",
   "id": "53d6db4c3b96576a"
  },
  {
   "metadata": {},
   "cell_type": "markdown",
   "source": [
    "# 4) CLASE 4 – Diccionarios complejos (mini‑CRM\n",
    "\n",
    "Escenario: clientes (empresas) que compran entradas de grupo."
   ],
   "id": "dc416dfcd18c1586"
  },
  {
   "metadata": {
    "ExecuteTime": {
     "end_time": "2025-08-30T17:20:26.542723Z",
     "start_time": "2025-08-30T17:20:26.535115Z"
    }
   },
   "cell_type": "code",
   "source": [
    "clientes = {\n",
    "101: {\n",
    "    \"empresa\": \"Acme Corp\",\n",
    "    \"contacto\": {\"nombre\": \"Laura\", \"tel\": \"+57 300...\"},\n",
    "    \"compras\": [\n",
    "        {\"evento\": \"Conferencia Python\", \"cantidad\": 5},\n",
    "        {\"evento\": \"Taller IA\", \"cantidad\": 2},\n",
    "    ],\n",
    "},\n",
    "    102: {\n",
    "        \"empresa\": \"DataSoft\",\n",
    "        \"contacto\": {\"nombre\": \"Carolina\", \"tel\": \"+57 301...\"},\n",
    "        \"compras\": [],\n",
    "    },\n",
    "}\n",
    "\n",
    "\n",
    "# Validación de integridad: todas las compras deben tener clave 'cantidad' positiva\n",
    "for cid, info in clientes.items():\n",
    "    for compra in info[\"compras\"]:\n",
    "        assert compra.get(\"cantidad\", 0) > 0, f\"Compra inválida en cliente {cid}\""
   ],
   "id": "1b18b3110f78526f",
   "outputs": [],
   "execution_count": 4
  },
  {
   "metadata": {},
   "cell_type": "markdown",
   "source": "Técnicas: validaciones, estructuras anidadas profundas, separación de responsabilidades (cliente/compra/evento).",
   "id": "dfde8de86bc6779e"
  },
  {
   "metadata": {},
   "cell_type": "markdown",
   "source": [
    "# 5) CLASE 5 – Sets y estructuras mixtas\n",
    "\n",
    "Escenario: deduplicar asistentes; operaciones de conjuntos entre eventos."
   ],
   "id": "ad56a9d205049d96"
  },
  {
   "metadata": {
    "ExecuteTime": {
     "end_time": "2025-08-30T17:20:26.584949Z",
     "start_time": "2025-08-30T17:20:26.577388Z"
    }
   },
   "cell_type": "code",
   "source": [
    "asistentes_evento_A = {\"ana@mail.com\", \"luis@mail.com\", \"maria@mail.com\"}\n",
    "asistentes_evento_B = {\"maria@mail.com\", \"cata@mail.com\"}\n",
    "\n",
    "\n",
    "union_total = asistentes_evento_A | asistentes_evento_B # unión\n",
    "repetidos = asistentes_evento_A & asistentes_evento_B # intersección\n",
    "solo_A = asistentes_evento_A - asistentes_evento_B # diferencia\n",
    "\n",
    "\n",
    "# Estructuras mixtas: lista de diccionarios y dict con listas\n",
    "registro_asistentes = [\n",
    "    {\"email\": \"ana@mail.com\", \"eventos\": [\"Conferencia Python\"]},\n",
    "    {\"email\": \"luis@mail.com\", \"eventos\": [\"Conferencia Python\", \"Taller IA\"]},\n",
    "]\n",
    "\n",
    "\n",
    "indice_por_email = {\n",
    "    fila[\"email\"]: fila[\"eventos\"] for fila in registro_asistentes\n",
    "}"
   ],
   "id": "a470fd755de68c60",
   "outputs": [],
   "execution_count": 5
  },
  {
   "metadata": {},
   "cell_type": "markdown",
   "source": "Uso pro: set para validaciones cruzadas (¿quién está inscrito en ambos?), eliminación de duplicados.",
   "id": "9186d45648b91c57"
  },
  {
   "metadata": {},
   "cell_type": "markdown",
   "source": [
    "# 6) CLASE 6 – Composición inteligente (modelo por IDs + índices)\n",
    "\n",
    "Pasamos de estructuras “planas” a un modelo normalizado (IDs y relaciones) y índices O(1)."
   ],
   "id": "d2a64eed83359fe"
  },
  {
   "metadata": {
    "ExecuteTime": {
     "end_time": "2025-08-30T17:20:26.648517Z",
     "start_time": "2025-08-30T17:20:26.633726Z"
    }
   },
   "cell_type": "code",
   "source": [
    "from dataclasses import dataclass\n",
    "from typing import Dict, List\n",
    "\n",
    "\n",
    "@dataclass(frozen=True)\n",
    "class Venue:\n",
    "    id: int\n",
    "    ciudad: str\n",
    "    nombre: str\n",
    "    capacidad: int\n",
    "\n",
    "\n",
    "@dataclass(frozen=True)\n",
    "class Event:\n",
    "    id: int\n",
    "    nombre: str\n",
    "    fecha: str # ISO YYYY-MM-DD\n",
    "    venue_id: int\n",
    "\n",
    "\n",
    "@dataclass(frozen=True)\n",
    "class Attendee:\n",
    "    id: int\n",
    "    email: str\n",
    "    nombre: str\n",
    "\n",
    "\n",
    "@dataclass\n",
    "class Registration:\n",
    "    event_id: int\n",
    "    attendee_id: int\n",
    "\n",
    "\n",
    "# Repos in-memory (diccionarios por ID) + índices auxiliares\n",
    "venues: Dict[int, Venue] = {}\n",
    "events: Dict[int, Event] = {}\n",
    "attendees: Dict[int, Attendee] = {}\n",
    "regs: List[Registration] = []\n",
    "\n",
    "\n",
    "idx_eventos_por_fecha: Dict[str, List[int]] = {}\n",
    "idx_attendee_por_email: Dict[str, int] = {}"
   ],
   "id": "f74e86423c1c21bf",
   "outputs": [],
   "execution_count": 6
  },
  {
   "metadata": {},
   "cell_type": "markdown",
   "source": [
    "**Idea:**\n",
    "* cada entidad tiene ID; las relaciones usan claves foráneas.\n",
    "* Creamos índices (fecha→[event_id], email→attendee_id) para búsquedas rápidas."
   ],
   "id": "30c96a2dbdbc2cc0"
  },
  {
   "metadata": {},
   "cell_type": "markdown",
   "source": [
    "# 7) CLASE 7 – Buenas prácticas y pipeline funcional\n",
    "\n",
    "Construimos helpers puros de normalización/validación y un pipeline con generadores."
   ],
   "id": "609b29c63d28f072"
  },
  {
   "metadata": {
    "ExecuteTime": {
     "end_time": "2025-08-30T17:20:26.672666Z",
     "start_time": "2025-08-30T17:20:26.664221Z"
    }
   },
   "cell_type": "code",
   "source": [
    "import unicodedata\n",
    "from functools import reduce\n",
    "from collections import Counter, defaultdict\n",
    "\n",
    "\n",
    "# --- Normalización (puras) ---\n",
    "def nfkc(s: str) -> str:\n",
    "    return unicodedata.normalize(\"NFKC\", s)\n",
    "\n",
    "\n",
    "def norm_text(s) -> str:\n",
    "    if s is None:\n",
    "        return \"\"\n",
    "    # Las siguientes dos líneas deben estar al mismo nivel de indentación que el 'if'.\n",
    "    s = \" \".join(nfkc(str(s)).strip().split())\n",
    "    return s.casefold()\n",
    "\n",
    "def no_acentos(s: str) -> str:\n",
    "    # Esta función ahora recibirá una cadena vacía en lugar de None.\n",
    "    nk = unicodedata.normalize(\"NFD\", s)\n",
    "    return \"\".join(ch for ch in nk if unicodedata.category(ch) != \"Mn\")\n",
    "\n",
    "# Predicados\n",
    "is_nonempty = lambda s: bool(s and s.strip())\n",
    "\n",
    "# --- Pipeline perezoso para emails/nombres (entrada sucia) ---\n",
    "def pipeline_personas(rows):\n",
    "\n",
    "\n",
    "    # rows: iterable de dicts {email, nombre}\n",
    "    gen = (\n",
    "        {\"email\": no_acentos(norm_text(r.get(\"email\", \"\"))),\n",
    "         \"nombre\": no_acentos(norm_text(r.get(\"nombre\", \"\")))}\n",
    "        for r in rows\n",
    "    )\n",
    "\n",
    "    gen = (r for r in gen if is_nonempty(r[\"email\"]) and \"@\" in r[\"email\"]) # filter\n",
    "\n",
    "    return gen # se materializa más adelante"
   ],
   "id": "9e8120c1315c1e0e",
   "outputs": [],
   "execution_count": 7
  },
  {
   "metadata": {},
   "cell_type": "markdown",
   "source": "map/filter/reduce: usamos comprensiones/generadores (más legibles) y reduce/Counter cuando aporta.",
   "id": "b4620867d8a05cfa"
  },
  {
   "metadata": {},
   "cell_type": "markdown",
   "source": "# 8) CLASE 8 – Ensamble final (EventManager) + demo",
   "id": "85f36d0ce445a2d9"
  },
  {
   "metadata": {
    "ExecuteTime": {
     "end_time": "2025-08-30T17:20:28.385808Z",
     "start_time": "2025-08-30T17:20:28.369312Z"
    }
   },
   "cell_type": "code",
   "source": [
    "class EventManager:\n",
    "    \"\"\"Functional core + imperative shell (parcial):\n",
    "    - Core: funciones puras (normalización, chequeos, cálculos)\n",
    "    - Shell: alta/listado/IO en memoria\n",
    "    \"\"\"\n",
    "    def __init__(self):\n",
    "        self.venues: Dict[int, Venue] = {}\n",
    "        self.events: Dict[int, Event] = {}\n",
    "        self.attendees: Dict[int, Attendee] = {}\n",
    "        self.regs: List[Registration] = []\n",
    "        # índices\n",
    "        self.idx_eventos_por_fecha: Dict[str, List[int]] = defaultdict(list)\n",
    "        self.idx_attendee_por_email: Dict[str, int] = {}\n",
    "        # contadores de ID\n",
    "        self._next_vid = 1\n",
    "        self._next_eid = 1\n",
    "        self._next_aid = 1\n",
    "\n",
    "    # ---------- Alta de entidades ----------\n",
    "    def add_venue(self, ciudad: str, nombre: str, capacidad: int) -> int:\n",
    "        v = Venue(self._next_vid, norm_text(ciudad), norm_text(nombre), int(capacidad))\n",
    "        self.venues[v.id] = v\n",
    "        self._next_vid += 1\n",
    "        return v.id\n",
    "\n",
    "\n",
    "    def add_event(self, nombre: str, fecha: str, venue_id: int) -> int:\n",
    "        e = Event(self._next_eid, norm_text(nombre), norm_text(fecha), venue_id)\n",
    "        self.events[e.id] = e\n",
    "        self.idx_eventos_por_fecha[e.fecha].append(e.id)\n",
    "        self._next_eid += 1\n",
    "        return e.id\n",
    "\n",
    "\n",
    "    def upsert_attendee(self, email: str, nombre: str) -> int:\n",
    "        email_n = no_acentos(norm_text(email))\n",
    "        if \"@\" not in email_n:\n",
    "            raise ValueError(\"Email inválido\")\n",
    "        if email_n in self.idx_attendee_por_email:\n",
    "            aid = self.idx_attendee_por_email[email_n]\n",
    "        # actualización de nombre si llega uno mejor\n",
    "            if is_nonempty(nombre):\n",
    "                a = self.attendees[aid]\n",
    "                self.attendees[aid] = Attendee(a.id, email_n, no_acentos(norm_text(nombre)))\n",
    "            return aid\n",
    "\n",
    "\n",
    "        aid = self._next_aid\n",
    "        self.attendees[aid] = Attendee(aid, email_n, no_acentos(norm_text(nombre)))\n",
    "        self.idx_attendee_por_email[email_n] = aid\n",
    "        self._next_aid += 1\n",
    "        return aid\n",
    "\n",
    "\n",
    "        # ---------- Registro (validaciones con sets/dict) ----------\n",
    "    def register(self, event_id: int, attendee_id: int) -> None:\n",
    "        # No duplicar registro\n",
    "        ya = any(r.event_id == event_id and r.attendee_id == attendee_id for r in self.regs)\n",
    "        if ya:\n",
    "            return\n",
    "\n",
    "\n",
    "        # Capacidad del venue (validación cruzada)\n",
    "        e = self.events[event_id]\n",
    "        v = self.venues[e.venue_id]\n",
    "        ocupados = sum(1 for r in self.regs if r.event_id == event_id)\n",
    "        if ocupados >= v.capacidad:\n",
    "            raise RuntimeError(\"Capacidad completa\")\n",
    "        self.regs.append(Registration(event_id, attendee_id))\n",
    "\n",
    "\n",
    "    def eventos_por_fecha(self, fecha: str) -> List[Event]:\n",
    "        return [self.events[i] for i in self.idx_eventos_por_fecha.get(norm_text(fecha), [])]\n",
    "\n",
    "\n",
    "    def asistentes_de_evento(self, event_id: int) -> List[Attendee]:\n",
    "        aids = [r.attendee_id for r in self.regs if r.event_id == event_id]\n",
    "        return [self.attendees[i] for i in aids]\n",
    "\n",
    "\n",
    "    def eventos_por_ciudad(self, ciudad: str) -> List[Event]:\n",
    "        c = norm_text(ciudad)\n",
    "        vids = [v.id for v in self.venues.values() if v.ciudad == c]\n",
    "        return [e for e in self.events.values() if e.venue_id in vids]\n",
    "\n",
    "\n",
    "    def duplicados_por_email(self) -> set:\n",
    "        emails = [a.email for a in self.attendees.values()]\n",
    "        vistos, dups = set(), set()\n",
    "        for em in emails:\n",
    "            if em in vistos:\n",
    "                dups.add(em)\n",
    "            else:\n",
    "                vistos.add(em)\n",
    "        return dups\n",
    "\n",
    "\n",
    "    def top_ciudades_por_eventos(self, k=3):\n",
    "        from collections import Counter\n",
    "        ciudades = [self.venues[e.venue_id].ciudad for e in self.events.values()]\n",
    "        return Counter(ciudades).most_common(k)\n",
    "\n",
    "\n",
    "    def ocupacion_por_evento(self) -> Dict[int, float]:\n",
    "        def ocup(e: Event) -> float:\n",
    "            v = self.venues[e.venue_id]\n",
    "            inscritos = sum(1 for r in self.regs if r.event_id == e.id)\n",
    "            return round(100.0 * inscritos / max(1, v.capacidad), 2)\n",
    "        return {e.id: ocup(e) for e in self.events.values()}\n",
    "    # ---------- Listados y reportes ---------- #"
   ],
   "id": "9a9ad2df84ec18c1",
   "outputs": [],
   "execution_count": 8
  },
  {
   "metadata": {
    "ExecuteTime": {
     "end_time": "2025-08-30T17:20:29.056188Z",
     "start_time": "2025-08-30T17:20:29.046516Z"
    }
   },
   "cell_type": "code",
   "source": [
    "if __name__ == \"__main__\":\n",
    "    em = EventManager()\n",
    "    v1 = em.add_venue(\"Bogotá\", \"Centro Convenciones\", 3)\n",
    "    v2 = em.add_venue(\"Medellín\", \"Plaza Mayor\", 2)\n",
    "    e1 = em.add_event(\"Conferencia Python\", \"2025-09-20\", v1)\n",
    "    e2 = em.add_event(\"Taller IA\", \"2025-09-25\", v2)\n",
    "\n",
    "\n",
    "    sucios = [\n",
    "        {\"email\": \"  ANA@mail.com \", \"nombre\": \"Ana\"},\n",
    "        {\"email\": \"luis@mail.COM\", \"nombre\": \"Luis\"},\n",
    "        {\"email\": \"maria@mail.com\", \"nombre\": \"María\"},\n",
    "        {\"email\": \"maria@mail.com\", \"nombre\": \"Maria\"},\n",
    "        {\"email\": \"invalido\", \"nombre\": \"X\"},\n",
    "    ]\n",
    "\n",
    "\n",
    "    for fila in pipeline_personas(sucios):\n",
    "        aid = em.upsert_attendee(fila[\"email\"], fila[\"nombre\"])\n",
    "        em.register(e1, aid)\n",
    "\n",
    "\n",
    "    try:\n",
    "        extra = em.upsert_attendee(\"extra@mail.com\", \"Extra\")\n",
    "        em.register(e1, extra)\n",
    "    except RuntimeError as err:\n",
    "        print(\"[WARN]\", err)\n",
    "\n",
    "\n",
    "    print(\"Eventos 2025-09-20:\", em.eventos_por_fecha(\"2025-09-20\"))\n",
    "    print(\"Asistentes de e1:\", em.asistentes_de_evento(e1))\n",
    "    print(\"Eventos en Medellín:\", em.eventos_por_ciudad(\"MEDELLÍN\"))\n",
    "    print(\"Duplicados por email:\", em.duplicados_por_email())\n",
    "    print(\"Top ciudades por eventos:\", em.top_ciudades_por_eventos())\n",
    "    print(\"Ocupación por evento (%):\", em.ocupacion_por_evento())"
   ],
   "id": "b3bef4e03af0c76f",
   "outputs": [
    {
     "name": "stdout",
     "output_type": "stream",
     "text": [
      "[WARN] Capacidad completa\n",
      "Eventos 2025-09-20: [Event(id=1, nombre='conferencia python', fecha='2025-09-20', venue_id=1)]\n",
      "Asistentes de e1: [Attendee(id=1, email='ana@mail.com', nombre='ana'), Attendee(id=2, email='luis@mail.com', nombre='luis'), Attendee(id=3, email='maria@mail.com', nombre='maria')]\n",
      "Eventos en Medellín: [Event(id=2, nombre='taller ia', fecha='2025-09-25', venue_id=2)]\n",
      "Duplicados por email: set()\n",
      "Top ciudades por eventos: [('bogotá', 1), ('medellín', 1)]\n",
      "Ocupación por evento (%): {1: 100.0, 2: 0.0}\n"
     ]
    }
   ],
   "execution_count": 9
  },
  {
   "metadata": {},
   "cell_type": "code",
   "outputs": [],
   "execution_count": null,
   "source": "",
   "id": "9d2f8276edbf0a67"
  }
 ],
 "metadata": {
  "kernelspec": {
   "display_name": "Python 3",
   "language": "python",
   "name": "python3"
  },
  "language_info": {
   "codemirror_mode": {
    "name": "ipython",
    "version": 2
   },
   "file_extension": ".py",
   "mimetype": "text/x-python",
   "name": "python",
   "nbconvert_exporter": "python",
   "pygments_lexer": "ipython2",
   "version": "2.7.6"
  }
 },
 "nbformat": 4,
 "nbformat_minor": 5
}
