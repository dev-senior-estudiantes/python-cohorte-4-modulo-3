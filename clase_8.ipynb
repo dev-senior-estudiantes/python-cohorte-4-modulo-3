{
 "cells": [
  {
   "metadata": {},
   "cell_type": "markdown",
   "source": "# CLASE 8: Evaluación final del módulo y optimización estructural con IA",
   "id": "77d96bcffd18cbe6"
  },
  {
   "metadata": {},
   "cell_type": "markdown",
   "source": [
    "**Objetivos:**\n",
    "\n",
    "1. Demostrar dominio completo de estructuras básicas y complejas en Python.\n",
    "\n",
    "2. Usar IA (ChatGPT, Copilot, etc.) como herramienta profesional para revisar, optimizar y documentar código.\n",
    "\n",
    "3. Integrar todo lo aprendido en un sistema de gestión de eventos.\n",
    "\n",
    "4. Preparar la transición hacia el siguiente módulo (archivos, persistencia y más)."
   ],
   "id": "b3edb429156baaee"
  },
  {
   "metadata": {},
   "cell_type": "markdown",
   "source": [
    "# Actividades paso a paso\n",
    "\n",
    "1. Análisis final de estructuras\n",
    "\n",
    "Revisar estructuras trabajadas:\n",
    "\n",
    "    * Listas, tuplas, diccionarios, sets.\n",
    "\n",
    "    * Clases y objetos básicos.\n",
    "\n",
    "    * Funciones y pipelines.\n",
    "\n",
    "**Ejercicio:**\n",
    "Analizar este código inicial de gestión de eventos y pensar mejoras:"
   ],
   "id": "ff53adf936329840"
  },
  {
   "cell_type": "code",
   "id": "ce7afd77",
   "metadata": {
    "ExecuteTime": {
     "end_time": "2025-08-29T20:48:13.591589Z",
     "start_time": "2025-08-29T20:48:13.582010Z"
    }
   },
   "source": [
    "class Evento:\n",
    "    def __init__(self, nombre, fecha, lugar):\n",
    "        self.nombre = nombre\n",
    "        self.fecha = fecha\n",
    "        self.lugar = lugar\n",
    "\n",
    "eventos = [\n",
    "    Evento(\"Conferencia Python\", \"2025-09-20\", \"Bogotá\"),\n",
    "    Evento(\"Taller IA\", \"2025-09-25\", \"Medellín\"),\n",
    "]\n",
    "\n",
    "for e in eventos:\n",
    "    print(f\"{e.nombre} en {e.lugar} el {e.fecha}\")"
   ],
   "outputs": [
    {
     "name": "stdout",
     "output_type": "stream",
     "text": [
      "Conferencia Python en Bogotá el 2025-09-20\n",
      "Taller IA en Medellín el 2025-09-25\n"
     ]
    }
   ],
   "execution_count": 3
  },
  {
   "metadata": {},
   "cell_type": "markdown",
   "source": [
    "**Preguntas de análisis para estudiantes:**\n",
    "\n",
    "1. ¿Qué se puede mejorar en la representación de los eventos?\n",
    "2. ¿Cómo se podría escalar para manejar muchos eventos?\n",
    "3. ¿Se puede usar dataclasses o __repr__ para simplifica?"
   ],
   "id": "e491931e7411e579"
  },
  {
   "metadata": {},
   "cell_type": "markdown",
   "source": [
    "**2. Taller de documentación y refactorización con IA**\n",
    "\n",
    "**Objetivo:** mostrar cómo la IA ayuda a escribir `docstrings`, `tipado` y `refactorización`.\n",
    "\n",
    "**Paso 1:** añadir tipado estático y docstrings."
   ],
   "id": "587bce52e8359b66"
  },
  {
   "metadata": {
    "ExecuteTime": {
     "end_time": "2025-08-29T21:08:00.755016Z",
     "start_time": "2025-08-29T21:08:00.747492Z"
    }
   },
   "cell_type": "code",
   "source": [
    "from dataclasses import dataclass\n",
    "\n",
    "@dataclass\n",
    "class Evento:\n",
    "    \"\"\"Representa un evento con nombre, fecha y lugar.\"\"\"\n",
    "    nombre: str\n",
    "    fecha: str\n",
    "    lugar: str"
   ],
   "id": "dd2ffb765b1cb15e",
   "outputs": [],
   "execution_count": 4
  },
  {
   "metadata": {},
   "cell_type": "markdown",
   "source": [
    "**Paso 2: usar IA para sugerir:**\n",
    "\n",
    "* Simplificación de funciones.\n",
    "* Mejor legibilidad.\n",
    "* Nombres de variables más descriptivos.\n",
    "* Generación automática de documentación."
   ],
   "id": "70d07624a48853b0"
  },
  {
   "metadata": {},
   "cell_type": "markdown",
   "source": [
    "**3. Presentación final: Sistema de gestión de eventos**\n",
    "\n",
    "El sistema debe:\n",
    "\n",
    "1. Crear eventos.\n",
    "2. Listar eventos.\n",
    "3. Filtrar eventos por ciudad o fecha."
   ],
   "id": "5e105ac375622adb"
  },
  {
   "metadata": {
    "ExecuteTime": {
     "end_time": "2025-08-29T21:33:00.133901Z",
     "start_time": "2025-08-29T21:33:00.126458Z"
    }
   },
   "cell_type": "code",
   "source": [
    "class GestorEventos:\n",
    "    def __init__(self):\n",
    "        self.eventos = []\n",
    "\n",
    "    def agregar_evento(self, evento: Evento):\n",
    "        \"\"\"Agrega un nuevo evento al gestor.\"\"\"\n",
    "        self.eventos.append(evento)\n",
    "\n",
    "    def listar_eventos(self):\n",
    "        \"\"\"Retorna todos los eventos registrados.\"\"\"\n",
    "        return self.eventos\n",
    "\n",
    "    def filtrar_por_lugar(self, lugar: str):\n",
    "        \"\"\"Filtra eventos por ciudad.\"\"\"\n",
    "        return [e for e in self.eventos if e.lugar == lugar]"
   ],
   "id": "cb0afaaa9684991e",
   "outputs": [],
   "execution_count": 5
  },
  {
   "metadata": {},
   "cell_type": "markdown",
   "source": "Ejemplo de uso:",
   "id": "36374ab6874add1b"
  },
  {
   "metadata": {
    "ExecuteTime": {
     "end_time": "2025-08-29T21:33:31.695261Z",
     "start_time": "2025-08-29T21:33:31.684982Z"
    }
   },
   "cell_type": "code",
   "source": [
    "gestor = GestorEventos()\n",
    "gestor.agregar_evento(Evento(\"Conferencia Python\", \"2025-09-20\", \"Bogotá\"))\n",
    "gestor.agregar_evento(Evento(\"Taller IA\", \"2025-09-25\", \"Medellín\"))\n",
    "\n",
    "print(\"📅 Todos los eventos:\")\n",
    "for e in gestor.listar_eventos():\n",
    "    print(e)\n",
    "\n",
    "print(\"\\n📍 Eventos en Medellín:\")\n",
    "for e in gestor.filtrar_por_lugar(\"Medellín\"):\n",
    "    print(e)"
   ],
   "id": "2d49e37b34f2b5e",
   "outputs": [
    {
     "name": "stdout",
     "output_type": "stream",
     "text": [
      "📅 Todos los eventos:\n",
      "Evento(nombre='Conferencia Python', fecha='2025-09-20', lugar='Bogotá')\n",
      "Evento(nombre='Taller IA', fecha='2025-09-25', lugar='Medellín')\n",
      "\n",
      "📍 Eventos en Medellín:\n",
      "Evento(nombre='Taller IA', fecha='2025-09-25', lugar='Medellín')\n"
     ]
    }
   ],
   "execution_count": 6
  },
  {
   "metadata": {},
   "cell_type": "markdown",
   "source": [
    "4. Cierre del módulo\n",
    "\n",
    "**Reflexión:**\n",
    "\n",
    "1. ¿Qué aprendí sobre estructuras de datos y abstracción?\n",
    "\n",
    "3. ¿Cómo me ayuda la IA a escribir mejor código?\n",
    "\n",
    "**Conexión con el siguiente nivel:**\n",
    "\n",
    "1. Persistencia con archivos `JSON, CSV, TXT.`\n",
    "2. Guardar y cargar los eventos en archivos.\n",
    "3. Introducción a **bases de datos.**"
   ],
   "id": "2c961769600b614e"
  },
  {
   "metadata": {},
   "cell_type": "markdown",
   "source": [
    "**Resultado esperado**\n",
    "\n",
    "Al final de la clase, cada estudiante debe presentar:\n",
    "\n",
    "1. Un mini sistema de gestión de eventos documentado.\n",
    "2. Mejorado y revisado con IA.\n",
    "3. Listo para integrarse con persistencia de datos en el próximo módulo."
   ],
   "id": "92a20c7b577d0006"
  },
  {
   "cell_type": "code",
   "id": "1ca29bab",
   "metadata": {
    "ExecuteTime": {
     "end_time": "2025-08-28T23:20:22.990411Z",
     "start_time": "2025-08-28T23:20:22.982346Z"
    }
   },
   "source": [
    "# Lista de sesiones (lista de strings)\n",
    "sesiones = [\"Apertura\", \"Charla Python\", \"Coffee Break\", \"Taller IA\", \"Cierre\"]\n",
    "\n",
    "# Acceso y modificación\n",
    "primera = sesiones[0] # \"Apertura\"\n",
    "sesiones[1] = \"Charla de Python\" # modificar elemento\n",
    "\n",
    "# Métodos comunes de lista\n",
    "sesiones.append(\"Networking\") # agregar al final\n",
    "sesiones.insert(2, \"Bienvenida VIP\") # insertar en posición\n",
    "removida = sesiones.pop() # saca y retorna el último (\"Networking\")\n",
    "sesiones.remove(\"Coffee Break\") # elimina por valor (primera coincidencia)\n",
    "sesiones.reverse() # invierte in‑place\n",
    "sesiones.sort() # orden alfabético in‑place\n",
    "\n",
    "\n",
    "# Slicing y comprensión de listas\n",
    "primeras_tres = sesiones[:3]\n",
    "mayus = [s.upper() for s in sesiones]\n",
    "\n",
    "\n",
    "# Tuplas para datos inmutables (ej: franja horaria fija)\n",
    "franja = (\"09:00\", \"10:30\") # tupla (inicio, fin)"
   ],
   "outputs": [],
   "execution_count": 2
  },
  {
   "cell_type": "code",
   "id": "750b274c",
   "metadata": {
    "ExecuteTime": {
     "end_time": "2025-08-28T23:20:23.012243Z",
     "start_time": "2025-08-28T23:20:23.006424Z"
    }
   },
   "source": [
    "ponentes = [] # lista dinámica\n",
    "\n",
    "\n",
    "# Simulación de entradas\n",
    "entradas = [\n",
    "(\"Ana\", \"Charla de Python\"),\n",
    "(\"Luis\", \"Taller IA\"),\n",
    "(\"María\", \"Charla de Python\"),\n",
    "]\n",
    "\n",
    "\n",
    "for nombre, tema in entradas:\n",
    "    ponentes.append([nombre, tema]) # lista de listas: tipo tabla [nombre, tema]\n",
    "\n",
    "\n",
    "# Reporte básico\n",
    "for fila in ponentes:\n",
    "    print(f\"Ponente: {fila[0]} | Tema: {fila[1]}\")"
   ],
   "outputs": [
    {
     "name": "stdout",
     "output_type": "stream",
     "text": [
      "Ponente: Ana | Tema: Charla de Python\n",
      "Ponente: Luis | Tema: Taller IA\n",
      "Ponente: María | Tema: Charla de Python\n"
     ]
    }
   ],
   "execution_count": 3
  },
  {
   "cell_type": "code",
   "id": "15ff07d8",
   "metadata": {
    "ExecuteTime": {
     "end_time": "2025-08-28T23:20:23.050403Z",
     "start_time": "2025-08-28T23:20:23.043254Z"
    }
   },
   "source": [
    "# Un evento como diccionario\n",
    "evento = {\n",
    "\"nombre\": \"Conferencia Python\",\n",
    "\"fecha\": \"2025-09-20\",\n",
    "\"ciudad\": \"Bogotá\",\n",
    "\"capacidad\": 120,\n",
    "}\n",
    "\n",
    "\n",
    "# Acceso seguro y actualización\n",
    "cap = evento.get(\"capacidad\", 0)\n",
    "evento.update({\"capacidad\": cap + 10}) # .update\n",
    "\n",
    "\n",
    "# Recorridos (keys/values/items)\n",
    "for k, v in evento.items():\n",
    "    print(k, \"→\", v)\n",
    "\n",
    "\n",
    "# Diccionario anidado (organizador con contacto)\n",
    "evento[\"organizador\"] = {\"nombre\": \"ComunidadPy\", \"email\": \"info@py.co\"}\n",
    "\n",
    "\n",
    "# Simulación de objeto con estructuras de datos\n",
    "print(evento[\"organizador\"][\"email\"]) # acceso anidado"
   ],
   "outputs": [
    {
     "name": "stdout",
     "output_type": "stream",
     "text": [
      "nombre → Conferencia Python\n",
      "fecha → 2025-09-20\n",
      "ciudad → Bogotá\n",
      "capacidad → 130\n",
      "info@py.co\n"
     ]
    }
   ],
   "execution_count": 4
  },
  {
   "cell_type": "code",
   "id": "820a518d",
   "metadata": {
    "ExecuteTime": {
     "end_time": "2025-08-28T23:20:23.097819Z",
     "start_time": "2025-08-28T23:20:23.092418Z"
    }
   },
   "source": [
    "clientes = {\n",
    "101: {\n",
    "\"empresa\": \"Acme Corp\",\n",
    "\"contacto\": {\"nombre\": \"Laura\", \"tel\": \"+57 300...\"},\n",
    "\"compras\": [\n",
    "{\"evento\": \"Conferencia Python\", \"cantidad\": 5},\n",
    "{\"evento\": \"Taller IA\", \"cantidad\": 2},\n",
    "],\n",
    "},\n",
    "102: {\n",
    "\"empresa\": \"DataSoft\",\n",
    "\"contacto\": {\"nombre\": \"Carolina\", \"tel\": \"+57 301...\"},\n",
    "\"compras\": [],\n",
    "},\n",
    "}\n",
    "\n",
    "\n",
    "# Validación de integridad: todas las compras deben tener clave 'cantidad' positiva\n",
    "for cid, info in clientes.items():\n",
    "    for compra in info[\"compras\"]:\n",
    "        assert compra.get(\"cantidad\", 0) > 0, f\"Compra inválida en cliente {cid}\""
   ],
   "outputs": [],
   "execution_count": 5
  },
  {
   "cell_type": "code",
   "id": "9fa00a53",
   "metadata": {
    "ExecuteTime": {
     "end_time": "2025-08-28T23:20:23.116579Z",
     "start_time": "2025-08-28T23:20:23.111835Z"
    }
   },
   "source": [
    "asistentes_evento_A = {\"ana@mail.com\", \"luis@mail.com\", \"maria@mail.com\"}\n",
    "asistentes_evento_B = {\"maria@mail.com\", \"cata@mail.com\"}\n",
    "\n",
    "\n",
    "union_total = asistentes_evento_A | asistentes_evento_B # unión\n",
    "repetidos = asistentes_evento_A & asistentes_evento_B # intersección\n",
    "solo_A = asistentes_evento_A - asistentes_evento_B # diferencia\n",
    "\n",
    "\n",
    "# Estructuras mixtas: lista de diccionarios y dict con listas\n",
    "registro_asistentes = [\n",
    "{\"email\": \"ana@mail.com\", \"eventos\": [\"Conferencia Python\"]},\n",
    "{\"email\": \"luis@mail.com\", \"eventos\": [\"Conferencia Python\", \"Taller IA\"]},\n",
    "]\n",
    "\n",
    "\n",
    "indice_por_email = {\n",
    "fila[\"email\"]: fila[\"eventos\"] for fila in registro_asistentes\n",
    "}"
   ],
   "outputs": [],
   "execution_count": 6
  },
  {
   "cell_type": "code",
   "id": "ce342e60",
   "metadata": {
    "ExecuteTime": {
     "end_time": "2025-08-28T23:20:23.134234Z",
     "start_time": "2025-08-28T23:20:23.127592Z"
    }
   },
   "source": [
    "asistentes_evento_A = {\"ana@mail.com\", \"luis@mail.com\", \"maria@mail.com\"}\n",
    "asistentes_evento_B = {\"maria@mail.com\", \"cata@mail.com\"}\n",
    "\n",
    "\n",
    "union_total = asistentes_evento_A | asistentes_evento_B # unión\n",
    "repetidos = asistentes_evento_A & asistentes_evento_B # intersección\n",
    "solo_A = asistentes_evento_A - asistentes_evento_B # diferencia\n",
    "\n",
    "\n",
    "# Estructuras mixtas: lista de diccionarios y dict con listas\n",
    "registro_asistentes = [\n",
    "{\"email\": \"ana@mail.com\", \"eventos\": [\"Conferencia Python\"]},\n",
    "{\"email\": \"luis@mail.com\", \"eventos\": [\"Conferencia Python\", \"Taller IA\"]},\n",
    "]\n",
    "\n",
    "\n",
    "indice_por_email = {\n",
    "fila[\"email\"]: fila[\"eventos\"] for fila in registro_asistentes\n",
    "}"
   ],
   "outputs": [],
   "execution_count": 7
  },
  {
   "cell_type": "code",
   "id": "f82b73b9",
   "metadata": {
    "ExecuteTime": {
     "end_time": "2025-08-28T23:20:23.156054Z",
     "start_time": "2025-08-28T23:20:23.144283Z"
    }
   },
   "source": [
    "from dataclasses import dataclass\n",
    "from typing import Dict, List\n",
    "\n",
    "\n",
    "@dataclass(frozen=True)\n",
    "class Venue:\n",
    "    id: int\n",
    "    ciudad: str\n",
    "    nombre: str\n",
    "    capacidad: int\n",
    "\n",
    "\n",
    "@dataclass(frozen=True)\n",
    "class Event:\n",
    "    id: int\n",
    "    nombre: str\n",
    "    fecha: str # ISO YYYY-MM-DD\n",
    "    venue_id: int\n",
    "\n",
    "\n",
    "@dataclass(frozen=True)\n",
    "class Attendee:\n",
    "    id: int\n",
    "    email: str\n",
    "    nombre: str\n",
    "\n",
    "\n",
    "@dataclass\n",
    "class Registration:\n",
    "    event_id: int\n",
    "    attendee_id: int\n",
    "\n",
    "\n",
    "# Repos in-memory (diccionarios por ID) + índices auxiliares\n",
    "venues: Dict[int, Venue] = {}\n",
    "events: Dict[int, Event] = {}\n",
    "attendees: Dict[int, Attendee] = {}\n",
    "regs: List[Registration] = []\n",
    "\n",
    "\n",
    "idx_eventos_por_fecha: Dict[str, List[int]] = {}\n",
    "idx_attendee_por_email: Dict[str, int] = {}"
   ],
   "outputs": [],
   "execution_count": 8
  },
  {
   "cell_type": "code",
   "id": "78f08321",
   "metadata": {
    "ExecuteTime": {
     "end_time": "2025-08-29T20:44:22.900726Z",
     "start_time": "2025-08-29T20:44:22.884817Z"
    }
   },
   "source": [
    "import unicodedata\n",
    "from functools import reduce\n",
    "from collections import Counter, defaultdict\n",
    "\n",
    "\n",
    "# --- Normalización (puras) ---\n",
    "def nfkc(s: str) -> str:\n",
    "    return unicodedata.normalize(\"NFKC\", s)\n",
    "\n",
    "\n",
    "def norm_text(s) -> str:\n",
    "    if s is None:\n",
    "        return \"\"\n",
    "    s = \" \".join(nfkc(str(s)).strip().split())\n",
    "    return s.casefold()\n",
    "\n",
    "\n",
    "def no_acentos(s: str) -> str:\n",
    "    nk = unicodedata.normalize(\"NFD\", s)\n",
    "    return \"\".join(ch for ch in nk if unicodedata.catego\n",
    "                   (ch) != \"Mn\")\n",
    "\n",
    "\n",
    "# Predicados\n",
    "is_nonempty = lambda s: bool(s and s.strip())\n",
    "\n",
    "\n",
    "# --- Pipeline perezoso para emails/nombres (entrada sucia) ---\n",
    "def pipeline_personas(rows):\n",
    "# rows: iterable de dicts {email, nombre}\n",
    "    gen = (\n",
    "        {\"email\": no_acentos(norm_text(r.get(\"email\", \"\"))),\n",
    "         \"nombre\": no_acentos(norm_text(r.get(\"nombre\", \"\")))}\n",
    "        for r in rows\n",
    "        )\n",
    "    gen = (r for r in gen if is_nonempty(r[\"email\"]) and \"@\"\n",
    "           in r[\"email\"]) # filter\n",
    "    return gen # se materializa más adelante"
   ],
   "outputs": [],
   "execution_count": 2
  }
 ],
 "metadata": {
  "kernelspec": {
   "display_name": ".venv",
   "language": "python",
   "name": "python3"
  },
  "language_info": {
   "codemirror_mode": {
    "name": "ipython",
    "version": 3
   },
   "file_extension": ".py",
   "mimetype": "text/x-python",
   "name": "python",
   "nbconvert_exporter": "python",
   "pygments_lexer": "ipython3",
   "version": "3.12.10"
  }
 },
 "nbformat": 4,
 "nbformat_minor": 5
}
