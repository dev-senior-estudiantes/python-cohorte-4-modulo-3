{
 "nbformat": 4,
 "nbformat_minor": 0,
 "metadata": {
  "colab": {
   "provenance": [],
   "mount_file_id": "1aWgGt5Pcae1xfGG53qpMtzeyJzCenrNQ",
   "authorship_tag": "ABX9TyPg728AzK2kJ2r+oGezD5lI"
  },
  "kernelspec": {
   "name": "python3",
   "display_name": "Python 3 (ipykernel)",
   "language": "python"
  },
  "language_info": {
   "name": "python"
  }
 },
 "cells": [
  {
   "metadata": {},
   "cell_type": "markdown",
   "source": "**CLASE 6 : Composición inteligente de estructuras – práctica integral**"
  },
  {
   "metadata": {},
   "cell_type": "markdown",
   "source": [
    "**Objetivos de la clase**\n",
    "\n",
    "1. Elegir la estructura adecuada para cada tipo de dato\n",
    "    * No todo se resuelve con listas. A veces un set es mejor (unicidad), un dict (mapeo clave-valor) o incluso combinaciones como dict[str, list[dict]].\n",
    "\n",
    "2. Usar IA y otras herramientas para transformar, validar y limpiar estructuras mal diseñadas\n",
    "\n",
    "    * Convertir datos anidados confusos en estructuras claras y consistentes.\n",
    "    * Ejemplo: limpiar duplicados, normalizar campos de texto.\n",
    "\n",
    "3. Refactorizar: quitar redundancias, aplicar estructuras correctas para mejorar legibilidad y eficiencia."
   ]
  },
  {
   "metadata": {},
   "cell_type": "markdown",
   "source": [
    "**1. Elección de la estructura adecuada**\n",
    "\n",
    "_En Python tenemos:_\n",
    "\n",
    "* Listas (**list**) → datos ordenados, permiten duplicados.\n",
    "\n",
    "* Tuplas (**tuple**) → datos ordenados e inmutables.\n",
    "\n",
    "* Conjuntos (**set**) → colecciones sin duplicados, no ordenadas.\n",
    "\n",
    "* Diccionarios (**dict**) → pares clave-valor, ideal para representar relaciones.\n",
    "\n",
    "_Revisar el siguiente ejemplo:_"
   ]
  },
  {
   "metadata": {
    "ExecuteTime": {
     "end_time": "2025-08-26T17:15:22.794081Z",
     "start_time": "2025-08-26T17:15:22.782651Z"
    }
   },
   "cell_type": "code",
   "source": [
    "# Lista de autores (ordenada, Puede repertirse)\n",
    "autores = [\"Gabriel Gacía Márquez\", \"Julio Cortázar\", \"Gabriel Gacía Márquez\"]\n",
    "autores"
   ],
   "outputs": [
    {
     "data": {
      "text/plain": [
       "['Gabriel Gacía Márquez', 'Julio Cortázar', 'Gabriel Gacía Márquez']"
      ]
     },
     "execution_count": 2,
     "metadata": {},
     "output_type": "execute_result"
    }
   ],
   "execution_count": 2
  },
  {
   "metadata": {
    "ExecuteTime": {
     "end_time": "2025-08-26T17:15:23.171771Z",
     "start_time": "2025-08-26T17:15:23.161330Z"
    }
   },
   "cell_type": "code",
   "source": [
    "# Conjunto de autores (unicidad Garantizada)\n",
    "autores_unicos = set(autores)\n",
    "autores_unicos"
   ],
   "outputs": [
    {
     "data": {
      "text/plain": [
       "{'Gabriel Gacía Márquez', 'Julio Cortázar'}"
      ]
     },
     "execution_count": 3,
     "metadata": {},
     "output_type": "execute_result"
    }
   ],
   "execution_count": 3
  },
  {
   "metadata": {
    "ExecuteTime": {
     "end_time": "2025-08-26T17:15:23.490298Z",
     "start_time": "2025-08-26T17:15:23.477334Z"
    }
   },
   "cell_type": "code",
   "source": [
    "# Diccionario Libro y autor\n",
    "libros = {\n",
    "    \"Cien años de Soledad\": \"Gabriel García Márquez\",\n",
    "    \"Rayuela\": \"Julio Cortázar\"\n",
    "}\n",
    "libros"
   ],
   "outputs": [
    {
     "data": {
      "text/plain": [
       "{'Cien años de Soledad': 'Gabriel García Márquez', 'Rayuela': 'Julio Cortázar'}"
      ]
     },
     "execution_count": 4,
     "metadata": {},
     "output_type": "execute_result"
    }
   ],
   "execution_count": 4
  },
  {
   "metadata": {},
   "cell_type": "markdown",
   "source": [
    "**Estructuras Aninadas:**\n",
    "\n",
    "Muchas veces necesitamos estructuras dentro de otras:\n",
    "\n",
    "* Listas dentro de diccionarios\n",
    "* Diccionarios dentro de listas\n",
    "* Diccionarios dentro de diccionarios\n",
    "* Listas dentro de listas\n",
    "* Tuplas dentro de listas\n",
    "* Listas dentro de tuplas\n",
    "* Diccionarios dentro de tuplas\n",
    "* Tuplas dentro de diccionarios\n",
    "* Listas dentro de listas de listas\n",
    "* Listas dentro de listas de tuplas\n",
    "* Listas dentro de listas de diccionarios\n",
    "* Listas dentro de tuplas de listas\n",
    "* Listas dentro de tuplas de diccionarios\n",
    "* Listas dentro de diccionarios de listas\n",
    "* Listas dentro de diccionarios de tuplas\n",
    "* Listas dentro de diccionarios de diccionarios\n",
    "* Tuplas dentro de listas de listas\n",
    "* Tuplas dentro de listas de tuplas\n",
    "* Tuplas dentro de listas de diccionarios\n",
    "\n",
    "_podemos anidar mas estructuras dentro de otras._\n",
    "\n",
    "Realiza un ejemplo de cada tipo de estructura anidada.\n"
   ]
  },
  {
   "metadata": {
    "ExecuteTime": {
     "end_time": "2025-08-26T17:15:23.980811Z",
     "start_time": "2025-08-26T17:15:23.965628Z"
    }
   },
   "cell_type": "code",
   "source": [
    "# Tenemos un diccionaro con dos claves libros y prestamos que estan apunto a la lista de diccionarios.\n",
    "biblioteca ={\n",
    "    \"libros\": [\n",
    "        {\"titulo\": \"Cien años de Soledad\", \"autor\": \"Gabriel García Márquez\", \"año\": 1967},\n",
    "        {\"titulo\": \"Rayuela\", \"autor\": \"Julio Cortázar\", \"año\": 1963}\n",
    "    ],\n",
    "    \"prestados\": [\n",
    "        {\"libro\": \"Cien años de Soledad\", \"usario\": \"carlos\", \"fecha\": \"2023-07-15\"},\n",
    "    ]\n",
    "}\n",
    "\n",
    "biblioteca"
   ],
   "outputs": [
    {
     "data": {
      "text/plain": [
       "{'libros': [{'titulo': 'Cien años de Soledad',\n",
       "   'autor': 'Gabriel García Márquez',\n",
       "   'año': 1967},\n",
       "  {'titulo': 'Rayuela', 'autor': 'Julio Cortázar', 'año': 1963}],\n",
       " 'prestados': [{'libro': 'Cien años de Soledad',\n",
       "   'usario': 'carlos',\n",
       "   'fecha': '2023-07-15'}]}"
      ]
     },
     "execution_count": 5,
     "metadata": {},
     "output_type": "execute_result"
    }
   ],
   "execution_count": 5
  },
  {
   "metadata": {
    "ExecuteTime": {
     "end_time": "2025-08-26T17:15:24.189132Z",
     "start_time": "2025-08-26T17:15:24.179470Z"
    }
   },
   "cell_type": "code",
   "source": [
    "# Ejemplo de Diccionarios dentro de listas\n",
    "\n",
    "# Lista de libros con diccionarios\n",
    "lista_de_libros = [\n",
    "    {\"titulo\": \"Cien años de Soledad\", \"autor\": \"Gabriel García Márquez\", \"año\": 1967},\n",
    "    {\"titulo\": \"Rayuela\", \"autor\": \"Julio Cortázar\", \"año\": 1963}\n",
    "]\n",
    "\n",
    "lista_de_libros"
   ],
   "outputs": [
    {
     "data": {
      "text/plain": [
       "[{'titulo': 'Cien años de Soledad',\n",
       "  'autor': 'Gabriel García Márquez',\n",
       "  'año': 1967},\n",
       " {'titulo': 'Rayuela', 'autor': 'Julio Cortázar', 'año': 1963}]"
      ]
     },
     "execution_count": 6,
     "metadata": {},
     "output_type": "execute_result"
    }
   ],
   "execution_count": 6
  },
  {
   "metadata": {
    "ExecuteTime": {
     "end_time": "2025-08-26T17:15:24.491515Z",
     "start_time": "2025-08-26T17:15:24.476275Z"
    }
   },
   "cell_type": "code",
   "source": [
    "# Diccionarios dentro de diccionarios\n",
    "\n",
    "\n",
    "# Esto es un ejemplo de Diccionarios dentro de diccionarios\n",
    "biblioteca_diccionarios = {\n",
    "    \"libros\": {\n",
    "        \"Cien años de Soledad\": {\"autor\": \"Gabriel García Márquez\", \"año\": 1967},\n",
    "        \"Rayuela\": {\"autor\": \"Julio Cortázar\", \"año\": 1963}\n",
    "    },\n",
    "    \"prestamos\": {\n",
    "        \"Carlos\": [{\"libro\": \"Cien años de Soledad\", \"fecha\": \"2023-07-15\"}]\n",
    "    }\n",
    "}\n",
    "\n",
    "biblioteca_diccionarios\n"
   ],
   "outputs": [
    {
     "data": {
      "text/plain": [
       "{'libros': {'Cien años de Soledad': {'autor': 'Gabriel García Márquez',\n",
       "   'año': 1967},\n",
       "  'Rayuela': {'autor': 'Julio Cortázar', 'año': 1963}},\n",
       " 'prestamos': {'Carlos': [{'libro': 'Cien años de Soledad',\n",
       "    'fecha': '2023-07-15'}]}}"
      ]
     },
     "execution_count": 7,
     "metadata": {},
     "output_type": "execute_result"
    }
   ],
   "execution_count": 7
  },
  {
   "metadata": {},
   "cell_type": "markdown",
   "source": [
    "**Transformación y limpieza**\n",
    "\n",
    "_Transformar estructuras desordenadas o inconsistentes en algo limpio y fácil de usar._"
   ]
  },
  {
   "metadata": {
    "ExecuteTime": {
     "end_time": "2025-08-26T17:15:25.052103Z",
     "start_time": "2025-08-26T17:15:25.039852Z"
    }
   },
   "cell_type": "code",
   "source": [
    "# datos inconsistentes y mal estructurados\n",
    "datos_inconsistentes = [\n",
    "    {\"book\": \" Rayuela\", \"author\": \"Julio cortázar\", \"date\": \"1963\"},\n",
    "    {\"book\": \"Cien años de Soledad\", \"author\": \"gabriel garcía márquez\", \"date\": \"1967\"},\n",
    "    {\"book\": \"Rayuela\", \"author\": \"Julio Cortázar\", \"date\": \"1963\"}\n",
    "]\n",
    "\n",
    "datos_inconsistentes"
   ],
   "outputs": [
    {
     "data": {
      "text/plain": [
       "[{'book': ' Rayuela', 'author': 'Julio cortázar', 'date': '1963'},\n",
       " {'book': 'Cien años de Soledad',\n",
       "  'author': 'gabriel garcía márquez',\n",
       "  'date': '1967'},\n",
       " {'book': 'Rayuela', 'author': 'Julio Cortázar', 'date': '1963'}]"
      ]
     },
     "execution_count": 8,
     "metadata": {},
     "output_type": "execute_result"
    }
   ],
   "execution_count": 8
  },
  {
   "metadata": {},
   "cell_type": "markdown",
   "source": [
    "**Problemas**:\n",
    "\n",
    "1. Autores escritos con mayúsculas inconsistentes.\n",
    "\n",
    "2. Duplicados.\n",
    "\n",
    "3. Claves en inglés mezcladas con español."
   ]
  },
  {
   "metadata": {},
   "cell_type": "markdown",
   "source": [
    "**Refactorización** **Limpia**:\n",
    "\n",
    "1. Esta Funcion realiza la limpieza de los datos.\n",
    "2. Normaliza los campos de texto.\n",
    "3. Elimina duplicados los nombres de autores.\n",
    "4. Devuelve una lista de diccionarios con la estructura limpia.\n",
    "5. La estructura final es una lista de diccionarios con claves \"titulo\", \"autor\" y \"año\".\n",
    "6. La función utiliza un conjunto para rastrear los libros ya vistos y evitar duplicados.\n",
    "7. La normalización de los nombres de autores se realiza convirtiendo a título y eliminando espacios adicionales. El año se convierte a entero para asegurar consistencia en el tipo de dato.\n",
    "8. Esta función es útil para limpiar y estructurar datos de una biblioteca o colección de libros."
   ]
  },
  {
   "metadata": {
    "ExecuteTime": {
     "end_time": "2025-08-26T17:15:26.107767Z",
     "start_time": "2025-08-26T17:15:26.096168Z"
    }
   },
   "cell_type": "code",
   "source": [
    "# Función para limpiar y normalizar datos de libros\n",
    "def limpiar_datos(datos): # datos es una lista de diccionarios\n",
    "    estructura_limpia = [] # Lista para almacenar los datos limpios\n",
    "    vistos = set() # Conjunto para rastrear libros ya vistos\n",
    "\n",
    "    for d in datos: # Recorrer cada dato en la lista\n",
    "        libro = d[\"book\"].strip()  # Eliminar espacios\n",
    "        autor = d[\"author\"].title().strip() # Normalizar autor a título y eliminar espacios\n",
    "        año = int(d[\"date\"]) # Convertir año a entero\n",
    "\n",
    "        # Generar clave única para cada libro\n",
    "        clave = (libro, autor, año)  # clave es un tuple para evitar duplicados\n",
    "        if clave not in vistos: # vistos es un conjunto para evitar duplicados\n",
    "            vistos.add(clave) # Agregar clave al conjunto de vistos\n",
    "            estructura_limpia.append({ # Agregar datos limpios a la lista de estructuras limpias\n",
    "                \"titulo\": libro, # Normalizar título del libro\n",
    "                \"autor\": autor, # Normalizar autor\n",
    "                \"año\": año # Normalizar año\n",
    "            })\n",
    "    return estructura_limpia # Devolver la lista de estructuras limpias\n",
    "\n",
    "# datos inconsistentes es una lista de diccionarios con claves \"book\", \"author\" y \"date\"\n",
    "biblioteca_limpia = limpiar_datos(datos_inconsistentes)\n",
    "print(biblioteca_limpia)"
   ],
   "outputs": [
    {
     "name": "stdout",
     "output_type": "stream",
     "text": [
      "[{'titulo': 'Rayuela', 'autor': 'Julio Cortázar', 'año': 1963}, {'titulo': 'Cien años de Soledad', 'autor': 'Gabriel García Márquez', 'año': 1967}]\n"
     ]
    }
   ],
   "execution_count": 9
  },
  {
   "metadata": {},
   "cell_type": "markdown",
   "source": "La fncion genero una estructura coherente, sin duplicados, normalizada y lista para usarse."
  },
  {
   "metadata": {},
   "cell_type": "markdown",
   "source": [
    "**Refactorización**\n",
    "Replatear la estructura:\n",
    "\n",
    "\n",
    "\n",
    "\n",
    "1. Evistar redundacia de datos.\n",
    "2. Mejorar la accesibilidad de los datos\n",
    "3. Claridad en las relaciones."
   ]
  },
  {
   "metadata": {
    "ExecuteTime": {
     "end_time": "2025-08-26T17:15:27.345856Z",
     "start_time": "2025-08-26T17:15:27.332189Z"
    }
   },
   "cell_type": "code",
   "source": [
    "# Ejemplo no refactorizado\n",
    "prestamos = [\n",
    "    {\"titulo\": \"Cien Años de Soledad\", \"usuario\": \"Carlos\", \"fecha\": \"2023-07-15\"},\n",
    "    {\"titulo\": \"Cien Años de Soledad\", \"usuario\": \"Carlos\", \"fecha\": \"2023-07-16\"}\n",
    "]\n",
    "prestamos"
   ],
   "outputs": [
    {
     "data": {
      "text/plain": [
       "[{'titulo': 'Cien Años de Soledad',\n",
       "  'usuario': 'Carlos',\n",
       "  'fecha': '2023-07-15'},\n",
       " {'titulo': 'Cien Años de Soledad',\n",
       "  'usuario': 'Carlos',\n",
       "  'fecha': '2023-07-16'}]"
      ]
     },
     "execution_count": 10,
     "metadata": {},
     "output_type": "execute_result"
    }
   ],
   "execution_count": 10
  },
  {
   "metadata": {
    "ExecuteTime": {
     "end_time": "2025-08-26T17:15:27.770127Z",
     "start_time": "2025-08-26T17:15:27.761552Z"
    }
   },
   "cell_type": "code",
   "source": [
    "# Ejemplo Refactorizado\n",
    "prestamos = {\n",
    "    \"Carlos\": [\n",
    "        {\"titulo\": \"Cien Años de soledad\", \"fecha\": \"2023-07-15\"},\n",
    "    ]\n",
    "}\n",
    "prestamos"
   ],
   "outputs": [
    {
     "data": {
      "text/plain": [
       "{'Carlos': [{'titulo': 'Cien Años de soledad', 'fecha': '2023-07-15'}]}"
      ]
     },
     "execution_count": 11,
     "metadata": {},
     "output_type": "execute_result"
    }
   ],
   "execution_count": 11
  },
  {
   "metadata": {},
   "cell_type": "markdown",
   "source": "Ahora sabemos qué usuario pidió qué libros, sin duplicar información."
  },
  {
   "metadata": {},
   "cell_type": "markdown",
   "source": [
    "**Esquema de Biblioteca**\n",
    "\n",
    "1.   Libros\n",
    "2.   Autores\n",
    "3.   Préstamos\n",
    "\n",
    "Nota:\n",
    "\n",
    "\n",
    "\n",
    "*   elegir la estrutura\n",
    "*   limpiar y normalizar datos\n",
    "*   refactorización del comido, eliminando datos duplicados y rebundancia\n",
    "*   Usar  estructuras anidadas  para remplazar relaciones reales:\n",
    "    Libros > autors > préstamos"
   ]
  },
  {
   "metadata": {
    "ExecuteTime": {
     "end_time": "2025-08-26T17:15:28.928922Z",
     "start_time": "2025-08-26T17:15:28.914061Z"
    }
   },
   "cell_type": "code",
   "source": [
    "biblioteca = {\n",
    "    \"autores\": {\n",
    "        \"Gabriel García Márquez\": {\"nacionalidad\": \"Colombiano\"},\n",
    "        \"Julio Cortazar\": {\"nacionalidad\": \"Argentino\"}\n",
    "    },\n",
    "    \"libros\": {\n",
    "        \"Cien años de soledad\": {\"autor\": \"Gabriel García Márquez\", \"año\": 1967},\n",
    "        \"Rayuela\": {\"autor\": \"Julio Cortazar\", \"año\": 1963}\n",
    "    },\n",
    "    \"prestamos\": {\n",
    "        \"Carlos\": [{\n",
    "            \"libro\": \"Cien Años de Soledad\", \"fecha\": \"2023-07-15\"\n",
    "        }]\n",
    "    }\n",
    "}\n",
    "biblioteca"
   ],
   "outputs": [
    {
     "data": {
      "text/plain": [
       "{'autores': {'Gabriel García Márquez': {'nacionalidad': 'Colombiano'},\n",
       "  'Julio Cortazar': {'nacionalidad': 'Argentino'}},\n",
       " 'libros': {'Cien años de soledad': {'autor': 'Gabriel García Márquez',\n",
       "   'año': 1967},\n",
       "  'Rayuela': {'autor': 'Julio Cortazar', 'año': 1963}},\n",
       " 'prestamos': {'Carlos': [{'libro': 'Cien Años de Soledad',\n",
       "    'fecha': '2023-07-15'}]}}"
      ]
     },
     "execution_count": 12,
     "metadata": {},
     "output_type": "execute_result"
    }
   ],
   "execution_count": 12
  },
  {
   "metadata": {},
   "cell_type": "markdown",
   "source": ""
  },
  {
   "metadata": {
    "ExecuteTime": {
     "end_time": "2025-08-26T17:15:29.751213Z",
     "start_time": "2025-08-26T17:15:29.747683Z"
    }
   },
   "cell_type": "code",
   "source": "",
   "outputs": [],
   "execution_count": null
  },
  {
   "metadata": {},
   "cell_type": "code",
   "outputs": [],
   "execution_count": null,
   "source": ""
  }
 ]
}
